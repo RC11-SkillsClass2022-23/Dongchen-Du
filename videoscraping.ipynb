{
  "nbformat": 4,
  "nbformat_minor": 0,
  "metadata": {
    "colab": {
      "provenance": [],
      "mount_file_id": "1jvx5D_8kdvB13q6KLp58mq8dGj_NqmnF",
      "authorship_tag": "ABX9TyMHgIRfvLHxkljRAraDKWXh",
      "include_colab_link": true
    },
    "kernelspec": {
      "name": "python3",
      "display_name": "Python 3"
    },
    "language_info": {
      "name": "python"
    }
  },
  "cells": [
    {
      "cell_type": "markdown",
      "metadata": {
        "id": "view-in-github",
        "colab_type": "text"
      },
      "source": [
        "<a href=\"https://colab.research.google.com/github/RC11-SkillsClass2022-23/Dongchen-Du/blob/main/videoscraping.ipynb\" target=\"_parent\"><img src=\"https://colab.research.google.com/assets/colab-badge.svg\" alt=\"Open In Colab\"/></a>"
      ]
    },
    {
      "cell_type": "code",
      "execution_count": null,
      "metadata": {
        "id": "cPeM6vuQKJ1y"
      },
      "outputs": [],
      "source": [
        "\n",
        "import requests\n",
        "from bs4 import BeautifulSoup\n",
        "import urllib.request\n",
        "import os\n",
        "import re\n",
        "     "
      ]
    },
    {
      "cell_type": "code",
      "source": [
        "# specify the URL of the archive here\n",
        "archive_url = \"https://ubu.com/film/\""
      ],
      "metadata": {
        "id": "GID6xUEIKbF3"
      },
      "execution_count": null,
      "outputs": []
    },
    {
      "cell_type": "code",
      "source": [
        "\n",
        "def get_sites(url):\n",
        "  sites = []\n",
        "  html_page = urllib.request.urlopen(url)\n",
        "  soup = BeautifulSoup(html_page, \"html.parser\")\n",
        "  for link in soup.findAll('a'):\n",
        "    site = link.get('href')\n",
        "    # the main page is not an artist\n",
        "    index = re.search(\"index.html$\", site)\n",
        "    root = re.search(\"^[.][.]/\", site)\n",
        "    if not index and not root:\n",
        "      sites.append(site)\n",
        "  return sites"
      ],
      "metadata": {
        "id": "Jn96k8OUKeLw"
      },
      "execution_count": null,
      "outputs": []
    },
    {
      "cell_type": "code",
      "source": [
        "def get_video_links(url):\n",
        "  #create response object\n",
        "  r = requests.get(url)\n",
        "  # move up 2 folders in the URL\n",
        "  url = url[:url.rfind('/')]\n",
        "  url = url[:url.rfind('/')]\n",
        "  #create beautiful-soup object\n",
        "  soup = BeautifulSoup(r.content,'html5lib')\n",
        "  #find all links on web-page\n",
        "  links = soup.findAll('a')\n",
        "  #filter the link ending with .mp4\n",
        "  video_links = [url + link['href'][2:] for link in links if link['href'].endswith('mp4')]\n",
        " \n",
        "  return video_links"
      ],
      "metadata": {
        "id": "P-sGRgp2K4gT"
      },
      "execution_count": null,
      "outputs": []
    },
    {
      "cell_type": "code",
      "source": [
        "def download_video_series(video_links, directory):\n",
        "  # iterate through all links in video_links\n",
        "  # and download them one by one\n",
        "  for link in video_links:\n",
        "    # obtain filename by splitting url and getting last string\n",
        "    file_name = link.split('/')[-1]\n",
        "    print (\"Downloading file:%s\"%file_name)\n",
        "\n",
        "    try:\n",
        "      #create response object\n",
        "      r = requests.get(link, stream = True)\n",
        "\n",
        "      #download started\n",
        "      with open(os.path.join(directory, file_name), 'wb') as f:\n",
        "        for chunk in r.iter_content(chunk_size = 1024*1024):\n",
        "          if chunk:\n",
        "            f.write(chunk)\n",
        "\n",
        "      print (\"%s downloaded!\\n\"%file_name)\n",
        "    except:\n",
        "      # ConnectionRefusedError or URLError \n",
        "      print(\"Failed to download file due to an error.\")"
      ],
      "metadata": {
        "id": "OlR1A5FfK_VC"
      },
      "execution_count": null,
      "outputs": []
    },
    {
      "cell_type": "code",
      "source": [
        "\n",
        "artist_sites = get_sites(archive_url + \"index.html\")\n",
        "print(artist_sites)\n",
        "     "
      ],
      "metadata": {
        "colab": {
          "base_uri": "https://localhost:8080/"
        },
        "id": "rvVxB4Z1LIu4",
        "outputId": "0e1b4a6a-7282-4e3c-e635-a5fd00df93fc"
      },
      "execution_count": null,
      "outputs": [
        {
          "output_type": "stream",
          "name": "stdout",
          "text": [
            "['abidin.html', 'abramovic.html', 'acconci.html', 'acker.html', 'abdoh.html', 'adachi.html', 'adbusters.html', 'ader.html', 'afsah.html', 'agahbanaei.html', 'agee.html', 'ahtila.html', 'ahwesh.html', 'aina.html', 'aitken.html', 'akhmatova.html', 'habib-allah.html', 'alsharif.html', 'almaria.html', 'aleinikov.html', 'alferi.html', 'abu-ali.html', 'alive.html', 'allora.html', 'almond.html', 'althamer.html', 'alys.html', 'amado.html', 'amaouche.html', 'amiralay.html', 'aaf.html', 'amis_don.html', 'amon_duul.html', 'anand.html', 'andersen.html', 'anderson_l.html', 'andriessen.html', 'anger.html', 'angerame.html', 'ant_farm.html', 'antin.html', 'elsken_appel.html', 'araki.html', 'arakawa.html', 'arakawa_shusaku.html', 'arbid.html', 'arcangel.html', 'arledge.html', 'ecart.html', 'arnold.html', 'art-language.html', 'artensemble.html', 'artaud.html', 'avaf.html', 'ashley.html', 'askevold.html', 'assayas.html', 'astore.html', 'atkins.html', 'attar.html', 'attia.html', 'auder.html', 'autant.html', 'averty.html', 'ayari.html', 'bachardy.html', 'bacon.html', 'bag.html', 'bahri.html', 'bailey_david.html', 'bailey.html', 'baillie.html', 'bal-blanc.html', 'ballenger.html', 'baldessari.html', 'baldwin.html', 'balerdi.html', 'ballard.html', 'banksy.html', 'bauhaus.html', 'bargellini.html', 'barlow.html', 'barney.html', 'barrett.html', 'barry_j.html', 'barry.html', 'barthes.html', 'bartlett.html', 'barton.html', 'basinski.html', 'basquiat.html', 'bataille.html', 'batniji.html', 'baudelaire.html', 'baudrillard.html', 'bauer.html', 'bayrle.html', 'alchemists.html', 'beaton.html', 'beatty.html', 'beaudin.html', 'beauvais.html', 'beauvoir.html', 'beavers.html', 'becher.html', 'beck_robert.html', 'beck.html', 'beckman.html', 'beckett_adam.html', 'beckett.html', 'corbijn.html', 'beecroft.html', 'behrman.html', 'behrman.html', 'beiguelman.html', 'beloff.html', 'beloufa.html', 'berio.html', 'ben-ner.html', 'bender.html', 'benglis.html', 'benjamin.html', 'benning_j.html', 'benning_s.html', 'berger.html', 'berman.html', 'bernabo.html', 'bernadette.html', 'berry.html', 'bertoglio.html', 'bertoia.html', 'berwick.html', 'beuys.html', 'bey.html', 'bill.html', 'bissett.html', 'biswas.html', 'blackwood.html', 'black-panthers.html', 'blake.html', 'blasco.html', 'blightman.html', 'bogawa.html', 'boltanski.html', 'bordowitz.html', 'boredoms.html', 'borges.html', 'bornstein.html', 'borowczyk.html', 'bouabdellah.html', 'bourdin.html', 'bowles.html', 'brainard.html', 'brakhage.html', 'brambilla.html', 'branca.html', 'branca_glenn.html', 'brancusi.html', 'brand.html', 'breakwell.html', 'brecht_bertolt.html', 'brecht.html', 'breer.html', 'bressane.html', 'breuning.html', 'bridget.html', 'brigataes.html', 'bright.html', 'brzozowska.html', 'broughton.html', 'bhqf.html', 'bruce.html', 'bruch.html', 'bruggermann.html', 'brus.html', 'buckingham.html', 'bukowski.html', 'burckhardt.html', 'burden.html', 'burian.html', 'burnett.html', 'burroughs.html', 'bute.html', 'butor.html', 'byars.html', 'byrne.html', 'byrne_g.html', 'cage.html', 'calder.html', 'caldwell.html', 'celan.html', 'fluxfilm30_cale.html', 'camplin.html', 'candeias.html', 'cantor.html', 'carasco.html', 'cardiff.html', 'cardoso.html', 'carne.html', 'carpi.html', 'cattelan.html', 'celine.html', 'cendrars.html', 'cha.html', 'chagall.html', 'chalayan.html', 'chambers.html', 'chamberlain.html', 'chamberlain_wynn.html', 'chan.html', 'chang.html', 'chapman.html', 'char.html', 'cheang.html', 'chen.html', 'chernysheva.html', 'cherry.html', 'chetwynd.html', 'child.html', 'chomon.html', 'chomette.html', 'chong.html', 'chopin.html', 'clark.html', 'clark_larry.html', 'cc.html', 'transgression.html', 'ciocci.html', 'clah.html', 'clair.html', 'clampett.html', 'clarke.html', 'claus.html', 'close.html', 'closky.html', 'cobbing.html', 'cocteau.html', 'cohen.html', 'cohl.html', 'cointet.html', 'cokes.html', 'colab.html', 'colen.html', 'coleman.html', 'coleman_ornette.html', 'collins.html', 'condo.html', 'conner.html', 'conrad.html', 'cooper.html', 'coppola_horacio.html', 'corbijn.html', 'corbusier.html', 'corke.html', 'cornell.html', 'cortazar.html', 'courant.html', 'courant.html', 'crasset.html', 'cravan.html', 'creed.html', 'croatian.html', 'crosswaite.html', 'cutler.html', 'curtis.html', 'cytter.html', 'czech.html', 'dada_1971.html', 'dahlberg.html', 'dailey.html', 'dali.html', 'dance-with-camera.html', 'dash.html', 'davey.html', 'davis_d.html', 'davis_irene.html', 'dacorte.html', 'deantonio.html', 'debeer.html', 'de_hirsch.html', 'demaria.html', 'denike.html', 'depalma.html', 'demaria.html', 'dean.html', 'debord.html', 'desfons.html', 'delany.html', 'delaunay.html', 'deling.html', 'delvoye.html', 'demand.html', 'demy.html', 'denny.html', 'deren.html', 'derrico.html', 'derrida.html', 'deslaw.html', 'dam.html', 'devuax.html', 'dhanifu.html', 'dick.html', 'dick_v.html', 'dijkstra.html', 'djemai.html', 'djurberg.html', 'dodal.html', 'dodge_kahn.html', 'donebauer.html', 'donegan.html', 'douglas.html', 'draeger.html', 'drot.html', 'duchamp.html', 'dubuffet.html', 'dulac.html', 'duncan.html', 'dursel.html', 'duvivier.html', 'dwoskin.html', 'dymon.html', 'dzama.html', 'groupe_vertov.html', 'early.html', 'ecart.html', 'edmondez.html', 'elsken.html', 'elyakim.html', 'emin.html', 'emshwiller.html', 'eno.html', 'epstein.html', 'eriksson.html', 'ernst_helge.html', 'ernst.html', 'eros.html', 'ertl.html', 'evans.html', 'export.html', 'ezawa.html', 'fadhil.html', 'fahlstrom.html', 'fairhurst.html', 'fairthorne.html', 'fanaka.html', 'farouk.html', 'farocki_gefangnisbilder.html', 'farrokhzad.html', 'fast.html', 'fatmi.html', 'fei.html', 'feldman.html', 'kitchen_lewis.html', 'ferrari.html', 'filho.html', 'filliou.html', 'finer.html', 'finley.html', 'fischli.html', 'fischer.html', 'fisher.html', 'fitterman.html', 'fitz.html', 'flanagan.html', 'fleisch.html', 'fluxfilm.html', 'fluxus_1962.html', 'fletcher.html', 'floyer.html', 'fontaine.html', 'ford.html', 'foreman.html', 'forensic.html', 'forgacs.html', '40.html', 'lenteng.html', 'four_walls.html', 'fowler.html', 'foucault.html', 'frampton.html', 'fraser.html', 'frazier_jacqueline.html', 'frazier.html', 'freed.html', 'freeland.html', 'fric.html', 'friedman.html', 'friedrich.html', 'fudong.html', 'fuller.html', 'fung.html', 'gaillard.html', 'averty_gainsbourg.html', 'ganahl.html', 'gander.html', 'garcia.html', 'gargash.html', 'gaskell.html', 'gates.html', 'gaudi.html', 'gehr.html', 'general_idea.html', 'genet.html', 'gerima.html', 'herbst.html', 'giacometti.html', 'gianikian.html', 'gibson.html', 'gidal.html', 'gilbreth.html', 'gillick.html', 'giorno.html', 'ginsberg.html', 'gg.html', 'girard.html', 'glabicki.html', 'gladsjo.html', 'glass.html', 'godard.html', 'goday.html', 'gold.html', 'goldin.html', 'golestan.html', 'goldsmith.html', 'goldstein.html', 'golia.html', 'gorani.html', 'gordon_d.html', 'gordon.html', 'gould.html', 'graham.html', 'graham_rodney.html', 'granat.html', 'gray.html', 'greenaway.html', 'grigorescu.html', 'grimonprez.html', 'groen.html', 'grooms.html', 'gropius.html', 'grotowski.html', 'medvedkine.html', 'consonanza.html', 'gruyter.html', 'guattari.html', 'guggenheim.html', 'gulim.html', 'guston.html', 'gutai.html', 'guymer.html', 'gysin.html', 'habib.html', 'hadid.html', 'hadzihalilovic.html', 'hafez.html', 'halford.html', 'halbert', 'hall.html', 'halley.html', 'hamdan.html', 'hammer.html', 'hammid.html', 'hammons.html', 'hanak.html', 'hanlon.html', 'hardy.html', 'harrington.html', 'harris.html', 'harris_trent.html', 'hatoum.html', 'von-hausswolff.html', 'haynes.html', 'heartfield.html', 'hege.html', 'her_noise.html', 'hebert.html', 'herring_nathan.html', 'herbst.html', 'heliczer.html', 'henrot.html', 'henry.html', 'hiredcenter.html', 'higgie.html', 'hill.html', 'hills.html', 'hindle.html', 'hirsh.html', 'hirschhorn.html', 'hirst.html', 'hockney.html', 'hodell.html', 'hoffman.html', 'holler.html', 'holmqvist.html', 'holt.html', 'home.html', 'hong.html', 'hopinka.html', 'hopkins.html', 'horn.html', 'horowitz.html', 'hovinbole.html', 'hovsepian.html', 'hsieh.html', 'hubbard.html', 'hughes.html', 'hughes_t.html', 'hugo.html', 'hulten.html', 'hura.html', 'hutton.html', 'hyunjin.html', 'igwe.html', 'iimura.html', 'influx.html', 'iloputaife.html', 'irwin_group.html', 'irwin.html', 'isou.html', 'isherwood.html', 'ivens.html', 'jacir.html', 'jacobs.html', 'jacques.html', 'jafa.html', 'james.html', 'jamie.html', 'jankowski.html', 'jarman.html', 'jarry.html', 'jenkins.html', 'jodi.html', 'johns.html', 'johnson_bs.html', 'lkj.html', 'johnson_rashid.html', 'johnson.html', 'joselit.html', 'jonas.html', 'jones_m.henry.html', 'jonouchi.html', 'jordan.html', 'joyce.html', 'juku.html', 'julien.html', 'just.html', 'kac.html', 'kagel.html', 'kahn_louis.html', 'kahn.html', 'kameli.html', 'kamler.html', 'kantor.html', 'kapoor.html', 'kaprow.html', 'karolinski.html', 'kast.html', 'kaufman.html', 'keller.html', 'kelley.html', 'kerkhof.html', 'kerouac.html', 'kern.html', 'keuken.html', 'khalili.html', 'khatibi.html', 'khodr.html', 'kilimnik.html', 'kim_hj.html', 'kim_kulim.html', 'kim.html', 'kimiavi.html', 'kimsooja.html', 'kipnis.html', 'kirby.html', 'kirk.html', 'kirsanov.html', 'kitchen.html', 'kjartansson.html', 'klein.html', 'klitclique.html', 'klopfenstein.html', 'kluge.html', 'knowles.html', 'koolhaas.html', 'koh.html', 'kur.html', 'koester.html', 'kowalski.html', 'kramer.html', 'kraus.html', 'kren.html', 'kriwet.html', 'krocker.html', 'kruger.html', 'krystufek.html', 'kubelka.html', 'kubota.html', 'kucera.html', 'kucia.html', 'kudlacek.html', 'kusama.html', 'kurtz.html', 'manitoba.html', 'la_rebellion.html', 'labruce.html', 'lacan.html', 'lacuesta.html', 'lamas.html', 'lambie.html', 'lamelas.html', 'lamorisse.html', 'lampert.html', 'landow.html', 'lang.html', 'lane.html', 'larkin.html', 'latham.html', 'laurette.html', 'lavey.html', 'lassnig.html', 'lawder.html', 'landow.html', 'laser.html', 'legrice.html', 'leccia.html', 'lebel.html', 'leckey.html', 'lee_hangjun.html', 'lee.html', 'lefebvre.html', 'leggett.html', 'leger.html', 'lehovec.html', 'lek.html', 'lelouch.html', 'lemaitre.html', 'lemaitre_s.html', 'lenya.html', 'leslie.html', 'leth.html', 'levine.html', 'levitt.html', 'leyda.html', 'leye.html', 'ligeti.html', 'ligon.html', 'lin.html', 'lin_tao.html', 'lingford.html', 'living.html', 'lockhart.html', 'loktev.html', 'lommel.html', 'longo.html', 'lowman.html', 'lucier.html', 'lucier_mary.html', 'lumiere.html', 'lunberry.html', 'lunch.html', 'lye.html', 'lynch.html', 'mbarek.html', 'macuga.html', 'maas.html', 'maclow.html', 'maciunas.html', 'mack_lh.html', 'maderna.html', 'maghsoudlou.html', 'maier.html', 'makarah.html', 'maljkovic.html', 'malullah.html', 'mambety.html', 'mancini.html', 'mack.html', 'maderna.html', 'mangolte.html', 'manovich.html', 'mann.html', 'manupelli.html', 'mapplethorpe.html', 'marclay.html', 'marco.html', 'marievic.html', 'mark.html', 'marker.html', 'markopoulos.html', 'marten.html', 'marziano.html', 'mauri.html', 'matisse.html', 'matsui.html', 'matsumoto.html', 'gmc.html', 'mautner.html', 'mayakovsky.html', 'mccaffery.html', 'mccall.html', 'mccarthy.html', 'mccoy.html', 'mcewen.html', 'mcelheny.html', 'mckay.html', 'mclaren_malcolm.html', 'mclaren.html', 'mcluhan.html', 'mcnamara.html', 'mcqueen.html', 'mead.html', 'meckseper.html', 'meese.html', 'meinhof.html', 'meireles.html', 'melhus.html', 'melly.html', 'mendieta.html', 'menken.html', 'metzger.html', 'metzner.html', 'michaux.html', 'milgram.html', 'miller.html', 'miller_john.html', 'miller_larry.html', 'minh.html', 'minter.html', 'mik.html', 'mishima.html', 'mitry.html', 'moerman.html', 'mohaiemen.html', 'moholy.html', 'molska.html', 'momus.html', 'monnet.html', 'montano.html', 'montez.html', 'moon.html', 'mori.html', 'moritsugu.html', 'morris.html', 'morris_s.html', 'morris_simon.html', 'mosset.html', 'moulett.html', 'mourao.html', 'mouris.html', 'moffatt.html', 'moorman.html', 'movin.html', 'malullah.html', 'moullet.html', 'moulton.html', 'mowoso.html', 'mroue.html', 'muehl.html', 'mullican.html', 'mulvey.html', 'mumma.html', 'munoz.html', 'murakami.html', 'murata.html', 'aether.html', 'mutu.html', 'muybridge.html', 'barbarian.html', 'myers.html', 'nakadate.html', 'namuth.html', 'nancarrow.html', 'nares.html', 'narkevicius.html', 'nashat.html', 'nashashibi.html', 'nath.html', 'nauman.html', 'negativland.html', 'nekes.html', 'nelson.html', 'neshat.html', 'neuhaus.html', 'neuenschwander.html', 'tajima.html', 'nguyen.html', 'niblock.html', 'nichol.html', 'nicolas.html', 'nicolson.html', 'niermann.html', 'nihilist.html', 'nitsch.html', 'noe.html', 'nordine.html', 'noureddine.html', 'oneill.html', 'obayashi.html', 'obrist.html', 'odenbach.html', 'oho.html', 'ok-hee.html', 'okiishi.html', 'oldenburg.html', 'oliveira.html', 'oliveros.html', 'omar.html', 'ondaatje.html', 'ono.html', 'oppenheim.html', 'montanez-ortiz.html', 'ostertag.html', 'ottinger.html', 'oursler.html', 'p-orridge.html', 'ozkaya.html', 'padros.html', 'paik.html', 'painleve.html', 'palestine.html', 'paper_paolozzi.html', 'paper_tiger.html', 'paperrad.html', 'parajanov.html', 'parreno.html', 'partch.html', 'pasolini.html', 'pau.html', 'payne-relph.html', 'pearlstein.html', 'peixoto.html', 'peleshian.html', 'pendelton.html', 'plu.html', 'perec.html', 'pettibon.html', 'peterson.html', 'peyton.html', 'pfahler.html', 'pfeiffer.html', 'pfeiffer_walter.html', 'place.html', 'philibert.html', 'phillips_r.html', 'phillips.html', 'picasso.html', 'pietroiusti.html', 'pilson.html', 'pindell.html', 'pinter.html', 'peixoto.html', 'poe.html', 'polk.html', 'polke.html', 'namuth_pollock.html', 'pope.html', 'pound.html', 'gladsjo_pranks.html', 'praunheim.html', 'price_e.html', 'price_l.html', 'price.html', 'prince.html', 'protazanov.html', 'proust.html', 'pruitt_early.html', 'pucill.html', 'raaijmakers.html', 'raban.html', 'radigue.html', 'rafman.html', 'rahnema.html', 'raindance.html', 'rainer.html', 'raqs.html', 'rauschenberg.html', 'ratte.html', 'raven.html', 'ray.html', 'raysse.html', 'al_error.html', 'rebet.html', 'recchion.html', 'reed_lou.html', 'reeves_dan.html', 'reich.html', 'reeves.html', 'residents.html', 'reijseger.html', 'resistances_africa.html', 'restrepo.html', 'reyes.html', 'rhodes.html', 'mies.html', 'ribot.html', 'richter_gerhard.html', 'richter.html', 'rice.html', 'riggs.html', 'riley.html', 'rimbaud.html', 'rimmer.html', 'rist.html', 'rivers.html', 'robbe-grillet.html', 'robbins.html', 'rooks.html', 'roos.html', 'rose_jon.html', 'rose.html', 'rose_rachel.html', 'rosen.html', 'rosefeldt.html', 'rosenfeld.html', 'rosler.html', 'rossi.html', 'rondinone.html', 'rothlisberger.html', 'rottenberg.html', 'roubaud.html', 'rouch.html', 'rubin.html', 'rubin_jerry.html', 'ruby.html', 'ruhm.html', 'ruilova.html', 'ruitenbeek.html', 'ruiz.html', 'ruppersberg.html', 'russell_arthur.html', 'russell_ken.html', 'ruttmann.html', 'sachs_lynne.html', 'sachs.html', 'sackner_concrete.html', 'sackner.html', 'sabahi.html', 'sadeghi.html', 'phalle.html', 'salloum.html', 'salmon.html', 'sanborn.html', 'sansour.html', 'sannes.html', 'sarmento.html', 'saroyan.html', 'sasamoto.html', 'sasnal.html', 'satie.html', 'satterwhite.html', 'sawa.html', 'schaefer_j.html', 'schifano.html', 'schippers.html', 'schlingensief.html', 'schneemann.html', 'schorr.html', 'schroeter.html', 'schwitters.html', 'scully.html', 'sedgwick.html', 'sedira.html', 'segalove.html', 'serramm.html', 'serra.html', 'sesic.html', 'wow_avant.html', 'shahbazi.html', 'shaker.html', 'shariffe.html', 'sharits.html', 'sharrock.html', 'shaer.html', 'shah.html', 'shaw.html', 'shawky.html', 'shedden.html', 'sheen.html', 'sherman.html', 'sherman_stuart.html', 'sherwin.html', 'shirdel.html', 'shirt.html', 'shonibare.html', 'shrigley.html', 'signer.html', 'sikander.html', 'sillman.html', 'silver.html', 'simmons.html', 'simon_jason.html', 'simon.html', 'simonds.html', 'simpson.html', 'singer.html', 'si.html', 'sjolander.html', 'fatboy-slim_weapon-of-choice.html', 'smith-a.html', 'smith_harry.html', 'smith_jack.html', 'smith_john.html', 'smith_kiki.html', 'smith_mike.html', 'starling.html', 'smith_stewart.html', 'smithson.html', 'street.html', 'snow.html', 'snyder.html', 'soe.html', 'soderbergh.html', 'solterbeck.html', 'sonicyouth.html', 'sonnier.html', 'sontag.html', 'sokurov.html', 'sollfrank.html', 'soth.html', 'soukaz.html', 'spaulings.html', 'spk.html', 'sprinkle.html', 'stallones.html', 'starewicz.html', 'stark.html', 'stein.html', 'steiner.html', 'steinkamp.html', 'steyerl.html', 'stickrod.html', 'stidworthy.html', 'stockhausen.html', 'strand_chick.html', 'strand.html', 'stratman.html', 'straub.html', 'strauss.html', 'strom.html', 'streuli.html', 'strong.html', 'sturtevant.html', 'superflex.html', 'srl.html', 'sound_syntax.html', 'tait.html', 'tajima.html', 'takashi.html', 'tambellini.html', 'tan.html', 'tanaami.html', 'tartaglia.html', 'taylor.html', 'taylor_e.html', 'tw.html', 'higgie.html', 'terayama.html', 'teshigahara.html', 'thater.html', 'thompson.html', 'thoms.html', 'thornton.html', 'throbbing.html', 'vantieghem.html', 'tillmans.html', 'tinguely.html', 'tiravanija.html', 'tone.html', 'toop.html', 'toufic.html', 'taj.html', 'trecartin.html', 'treleaven.html', 'tribe.html', 'trier.html', 'trockel.html', 'tscherkassky.html', 'tschumi.html', 'tuxedomoon.html', 'tyranny.html', 'tzara.html', 'ulay.html', 'ulive.html', 'urbano-ragazzi.html', 'usco.html', 'vanderbeek.html', 'varda.html', 'vautier.html', 'varese.html', 'vasulka.html', 'veloso.html', 'warhol_velvet.html', 'vertov_dziga.html', 'groupe_vertov.html', 'vian.html', 'videofreex.html', 'vic.html', 'vidokle.html', 'vienet.html', 'vierkant.html', 'vienna_actionists.html', 'visconti.html', 'visser.html', 'vorkapich.html', 'vreeland.html', 'walker.html', 'wasko.html', 'watts.html', 'weber.html', 'weerasethakul.html', 'wegman.html', 'weibel.html', 'wiegmann_adaptive-lines.html', 'weinberg.html', 'welling.html', 'warhol.html', 'watson.html', 'wearing.html', 'wedemeyer.html', 'weegee.html', 'weems.html', 'wegman.html', 'weiner.html', 'wenders.html', 'went.html', 'wei.html', 'weiss.html', 'welsby.html', 'welles.html', 'weschler.html', 'west.html', 'wheaton.html', 'wgbh_video.html', 'white_iverson.html', 'whitehead.html', 'wieland.html', 'wilets.html', 'wilke.html', 'wiley.html', 'williams_c.html', 'williams.html', 'williamson.html', 'wilsona.html', 'wilson_jane-louise.html', 'wilson.html', 'wilson_ra.html', 'wittgenstein.html', 'wittmann.html', 'wojnarowicz.html', 'wolman.html', 'wolfson.html', 'wood.html', 'wood_harrison.html', 'woodbury.html', 'wooster.html', 'workman.html', 'wu.html', 'wurm.html', 'xenakis.html', 'yellin.html', 'yippie.html', 'yokoo.html', 'yonemoto.html', 'blackwave.html', 'young.html', 'zev.html', 'zaatari.html', 'zahradnicek.html', 'zedd.html', 'xeno.html', 'zizek.html', 'zorn.html', 'zmijewski.html', 'zittel.html', 'zulueta.html']\n"
          ]
        }
      ]
    },
    {
      "cell_type": "code",
      "source": [
        "\n",
        "for artist_site in artist_sites[2:6]:\n",
        "  print(archive_url + artist_site)\n",
        "  film_sites = get_sites(archive_url + artist_site)\n",
        "  for film_site in film_sites:\n",
        "    #getting all video links\n",
        "    video_links = get_video_links(archive_url + film_site)\n",
        "\n",
        "    #download all videos\n",
        "    download_video_series(video_links, '/content/drive/MyDrive/RC11_2022-23/scrapiedvideo')\n",
        "     "
      ],
      "metadata": {
        "colab": {
          "base_uri": "https://localhost:8080/"
        },
        "id": "zZN4arRvLMVb",
        "outputId": "7ef6a7cc-e1d6-41b8-af22-c781de8ca339"
      },
      "execution_count": null,
      "outputs": [
        {
          "output_type": "stream",
          "name": "stdout",
          "text": [
            "https://ubu.com/film/acconci.html\n",
            "Downloading file:ubuvideo.memoryoftheworld.orgAcconci-Vito_Applications_1970.mp4\n",
            "Failed to download file due to an error.\n",
            "Downloading file:Acconci-Vito_Three-Adaptation-Studies_1970.mp4\n",
            "Acconci-Vito_Three-Adaptation-Studies_1970.mp4 downloaded!\n",
            "\n",
            "Downloading file:Acconci-Vito_Centers_1971.mp4\n",
            "Acconci-Vito_Centers_1971.mp4 downloaded!\n",
            "\n",
            "Downloading file:Acconci-Vito_Pryings_1971.mp4\n",
            "Acconci-Vito_Pryings_1971.mp4 downloaded!\n",
            "\n",
            "Downloading file:Acconci-Vito_Open-Book_1974.mp4\n",
            "Acconci-Vito_Open-Book_1974.mp4 downloaded!\n",
            "\n",
            "Downloading file:Acconi-Vito_Undertone_1972_1.mp4\n",
            "Acconi-Vito_Undertone_1972_1.mp4 downloaded!\n",
            "\n",
            "Downloading file:Acconci-Vito_Face-Off_1970.mp4\n",
            "Acconci-Vito_Face-Off_1970.mp4 downloaded!\n",
            "\n",
            "Downloading file:Acconci_Vito_SEEDBED_1972.mp4\n",
            "Acconci_Vito_SEEDBED_1972.mp4 downloaded!\n",
            "\n",
            "Downloading file:Acconci-Vito_Theme-Song_1973.mp4\n",
            "Acconci-Vito_Theme-Song_1973.mp4 downloaded!\n",
            "\n",
            "Downloading file:Acconci-Vito_Recording-Studio-From-Air-Time_1973.mp4\n",
            "Acconci-Vito_Recording-Studio-From-Air-Time_1973.mp4 downloaded!\n",
            "\n",
            "Downloading file:Acconci-Vito_Command-Performance_1974.mp4\n",
            "Acconci-Vito_Command-Performance_1974.mp4 downloaded!\n",
            "\n",
            "https://ubu.com/film/acker.html\n",
            "https://ubu.com/film/abdoh.html\n",
            "Downloading file:Abdoh_Reza_Sleeping_with_the_Devil_1990_1.mp4\n",
            "Abdoh_Reza_Sleeping_with_the_Devil_1990_1.mp4 downloaded!\n",
            "\n",
            "Downloading file:Abdoh_Reza_The_Hip-Hop_Waltz_of_Eurydice_1990_1.mp4\n",
            "Abdoh_Reza_The_Hip-Hop_Waltz_of_Eurydice_1990_1.mp4 downloaded!\n",
            "\n",
            "Downloading file:Abdoh_Reza_Bogeyman_1991.mp4\n",
            "Abdoh_Reza_Bogeyman_1991.mp4 downloaded!\n",
            "\n",
            "Downloading file:Abdoh_Reza_Daddys_Girl_1991.mp4\n",
            "Abdoh_Reza_Daddys_Girl_1991.mp4 downloaded!\n",
            "\n",
            "Downloading file:Abdoh_Reza_The_Weeping_Song_1991_1.mp4\n",
            "Abdoh_Reza_The_Weeping_Song_1991_1.mp4 downloaded!\n",
            "\n",
            "Downloading file:Abdoh_Reza_The_Law_of_Remains1992_1.mp4\n",
            "Abdoh_Reza_The_Law_of_Remains1992_1.mp4 downloaded!\n",
            "\n",
            "Downloading file:Abdoh_Reza_Tight_Right_White_1993_1.mp4\n",
            "Abdoh_Reza_Tight_Right_White_1993_1.mp4 downloaded!\n",
            "\n",
            "https://ubu.com/film/adachi.html\n",
            "Downloading file:Wakamatsu-and-Adachi_Red_Army_PFLP_Declaration_of_World_War_1971.mp4\n",
            "Wakamatsu-and-Adachi_Red_Army_PFLP_Declaration_of_World_War_1971.mp4 downloaded!\n",
            "\n",
            "Downloading file:Wakamatsu-and-Adachi_Red_Army_PFLP_Declaration_of_World_War_1971.mp4\n",
            "Wakamatsu-and-Adachi_Red_Army_PFLP_Declaration_of_World_War_1971.mp4 downloaded!\n",
            "\n"
          ]
        }
      ]
    },
    {
      "cell_type": "code",
      "source": [
        "%cd opencv-python\n"
      ],
      "metadata": {
        "colab": {
          "base_uri": "https://localhost:8080/"
        },
        "id": "deOOpQvLhoHo",
        "outputId": "baef8a9c-8186-44f9-be4c-5179fce6439d"
      },
      "execution_count": null,
      "outputs": [
        {
          "output_type": "stream",
          "name": "stdout",
          "text": [
            "[Errno 2] No such file or directory: 'opencv-python'\n",
            "/content\n"
          ]
        }
      ]
    },
    {
      "cell_type": "code",
      "source": [
        "import cv2\n",
        "import numpy as np"
      ],
      "metadata": {
        "id": "Xt3ACczvksrm"
      },
      "execution_count": null,
      "outputs": []
    }
  ]
}