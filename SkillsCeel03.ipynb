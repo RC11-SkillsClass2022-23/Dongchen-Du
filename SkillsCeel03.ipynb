{
 "cells": [
  {
   "cell_type": "code",
   "execution_count": 5,
   "id": "51a17981",
   "metadata": {},
   "outputs": [],
   "source": [
    "import numpy as np"
   ]
  },
  {
   "cell_type": "markdown",
   "id": "1e6e80d9",
   "metadata": {},
   "source": [
    "Numpy documentation: https://numpy.org/doc/stable/index.html\n",
    "\n",
    "ndarray: https://numpy.org/doc/stable/reference/arrays.ndarray.html\n",
    "\n",
    "Ways to create new arrays/matrices: https://numpy.org/doc/stable/reference/routines.array-creation.html\n",
    "\n",
    "basic array manipulation: https://numpy.org/doc/stable/reference/routines.array-manipulation.html"
   ]
  },
  {
   "cell_type": "markdown",
   "id": "4658abc9",
   "metadata": {},
   "source": [
    "# Exercise One\n",
    "\n",
    "## 1.1"
   ]
  },
  {
   "cell_type": "code",
   "execution_count": 21,
   "id": "72b146a2",
   "metadata": {},
   "outputs": [],
   "source": [
    "import numpy as np\n",
    "\n",
    "def SMM(A, B):\n",
    "    n = len(A)\n",
    "    C = np.zeros((n, n))\n",
    "    \n",
    "    for i in range(n):\n",
    "        for j in range(n):\n",
    "            for k in range(n):\n",
    "                C[i][j] += A[i][k] * B[k][j]\n",
    "    C = np.array(C)            \n",
    "    return C\n"
   ]
  },
  {
   "cell_type": "code",
   "execution_count": 22,
   "id": "cbbb28ee",
   "metadata": {},
   "outputs": [
    {
     "data": {
      "text/plain": [
       "array([[16., 10.],\n",
       "       [29., 16.]])"
      ]
     },
     "execution_count": 22,
     "metadata": {},
     "output_type": "execute_result"
    }
   ],
   "source": [
    "A = [[2,2],[3,4]]\n",
    "B = [[3,4],[5,1]]\n",
    "SMM(A, B)"
   ]
  },
  {
   "cell_type": "markdown",
   "id": "5d2819f2",
   "metadata": {},
   "source": [
    "## 1.2"
   ]
  },
  {
   "cell_type": "markdown",
   "id": "c09c0949",
   "metadata": {},
   "source": [
    "The time complexity of the function SMM(A, B) is O(n^3), where n is the number of rows and columns in the matrices A and B.\n",
    "\n",
    "This is because there are three nested loops, each iterating n times, resulting in a total of n^3 iterations. Within each iteration of the innermost loop, a constant amount of work is done (multiplying and adding two numbers), so the overall time complexity is proportional to the number of iterations, which is O(n^3).\n",
    "\n",
    "Therefore, as the size of the matrices grows larger, the time required to compute the matrix multiplication will increase significantly. It's worth noting that there are more efficient algorithms for matrix multiplication that have a lower time complexity, such as the Strassen algorithm which has a time complexity of O(n^log2(7)), but they are typically more complex to implement and are only faster for very large matrices."
   ]
  },
  {
   "cell_type": "markdown",
   "id": "3dc7e2b7",
   "metadata": {},
   "source": [
    "# Exercise Two\n",
    "## 2.1"
   ]
  },
  {
   "cell_type": "markdown",
   "id": "29141011",
   "metadata": {},
   "source": [
    "SMMRec(A,B) is a recursive function with a base case of \"n == 1\" , and this is the case when the matrices have only one element, in which case the product can be computed directly using the formula. it is a recursive funciton because that it calls itself repeatedly to compute the matrix product of the quarter matrices(provided that it is not in base case).\n",
    "\n",
    "the recursion function first splits the input matrices A and B into four quarters(provided if n is not equal to 1).Then, computes the products of the quarter matrices recursively by calling the \"SMMRec\" function with the quarter matrices as inputs. \n",
    "the function will keep spliting the input matrice into quarters untill it can no longer do it(when it contains only 1 element in the matrices, that is when it can computed directly though formula).\n",
    "Finally, it combines the resulting quarter matrices into the final matrix C by reassembling them using a nested loop structure."
   ]
  },
  {
   "cell_type": "markdown",
   "id": "d9de9b31",
   "metadata": {},
   "source": [
    "## 2.2"
   ]
  },
  {
   "cell_type": "markdown",
   "id": "0aedab7f",
   "metadata": {},
   "source": [
    "This algorithm fits into the divide-and-conquer approach by fullfilling following critiria: \n",
    "divided: recursively dividing the matrices A and B into four sub-matrices.\n",
    "conquer:multiplying these sub-matrices using recursive calls to the SMMRec function.\n",
    "Combine: merging the results into the final matrix C.\n",
    "\n",
    "the detail of the function illustrated as below:\n",
    "\n",
    "The input matrices A and B are divided recursively into four sub-matrices (A11, A12, A21, A22 and B11, B12, B21, B22). These sub-matrices are then multiplied using recursive calls to the SMMRec function (conquer). In cases where A and B are 1x1 matrices, the algorithm computes their product directly.\n",
    "\n",
    "The resulting sub-matrices of C (C11, C12, C21, and C22) are then combined into the final matrix C using the combine_matrices function."
   ]
  },
  {
   "cell_type": "markdown",
   "id": "6928230c",
   "metadata": {},
   "source": [
    "## 2.3"
   ]
  },
  {
   "cell_type": "code",
   "execution_count": 1,
   "id": "ef9a9048",
   "metadata": {},
   "outputs": [],
   "source": [
    "# coding\n",
    "\n",
    "def SMMRec(A, B):\n",
    "    n = len(A)\n",
    "    C = [[0 for j in range(n)] for i in range(n)]\n",
    "    \n",
    "    if n == 1:  # base case\n",
    "        C[0][0] = A[0][0] * B[0][0]\n",
    "    else:\n",
    "        # divide matrices into quarters\n",
    "        A11, A12, A21, A22 = split_matrix(A)\n",
    "        B11, B12, B21, B22 = split_matrix(B)\n",
    "\n",
    "        # recursively compute sub-matrices of C\n",
    "        C11 = add_matrices(SMMRec(A11, B11), SMMRec(A12, B21))\n",
    "        C12 = add_matrices(SMMRec(A11, B12), SMMRec(A12, B22))\n",
    "        C21 = add_matrices(SMMRec(A21, B11), SMMRec(A22, B21))\n",
    "        C22 = add_matrices(SMMRec(A21, B12), SMMRec(A22, B22))\n",
    "\n",
    "        # combine sub-matrices of C\n",
    "        C = combine_matrices(C11, C12, C21, C22)\n",
    "\n",
    "    return C"
   ]
  },
  {
   "cell_type": "markdown",
   "id": "1aa04150",
   "metadata": {},
   "source": [
    "The steps of the pseudocode that involve straightforward implementation include initializing the new matrix C to all zeros, \n",
    " as well as checking for the base case where the matrices A and B are both 1x1. \n",
    " These steps can be easily translated into code.\n",
    " \n",
    " The steps involving the division and combination of matrices are more complex. \n",
    " In order to divide the matrices into four sub-matrices, \n",
    " we need to iterate over each element of the matrices and extract the appropriate sub-matrices. \n",
    " This involves more complex indexing and slicing operations.\n",
    " And the combine_matrices function involves iterating over each element of the four sub-matrices and combining them into the final matrix C. \n",
    " This requires careful indexing and assignment operations."
   ]
  },
  {
   "cell_type": "markdown",
   "id": "f14dce2d",
   "metadata": {},
   "source": [
    "# Exercise Three"
   ]
  },
  {
   "cell_type": "markdown",
   "id": "cf276777",
   "metadata": {},
   "source": [
    " In Exercise 2, the time complexity of the recursive matrix multiplication algorithm (SMMRec) was given by T(n) = 8T(n/2) + O(n^2), \n",
    " where T(n) represents the time required to multiply two matrices of size n x n.\n",
    " The Strassen algorithm optimizes the recursive matrix multiplication algorithm by reducing the number of multiplications from 8 to 7 \n",
    " at the cost of introducing additional additions and subtractions. \n",
    " Specifically, the Strassen algorithm performs 10 additional additions/subtractions before the recursive step (S1-S10) and \n",
    " 8 additional additions/subtractions after the recursive step (C11-C22).\n",
    " To analyze the time complexity of the Strassen algorithm, we can modify the complexity formula for the SMMRec algorithm as follows:\n",
    " T(n) = 7T(n/2) + O(n^2) + O(n^2)\n",
    " The first term on the right-hand side represents the time required to perform the 7 matrix multiplications of size n/2 x n/2 \n",
    " in the recursive step. \n",
    " The second term represents the time required to perform the 10 additional additions/subtractions before the recursive step, \n",
    " and the third term represents the time required to perform the 8 additional additions/subtractions after the recursive step.\n",
    " Solving the recurrence relation using the master theorem yields a time complexity of O(n^log2(7)) for the Strassen algorithm. \n",
    " This is a significant improvement over the O(n^3) time complexity of the standard matrix multiplication algorithm. \n",
    " However, in practice, the Strassen algorithm is not always faster than the standard algorithm due to the overhead introduced \n",
    " by the additional additions/subtractions. \n",
    " Additionally, the Strassen algorithm is only optimal for large matrix sizes, \n",
    " and for small matrix sizes, the standard algorithm may be faster."
   ]
  },
  {
   "cell_type": "code",
   "execution_count": null,
   "id": "a432344a",
   "metadata": {},
   "outputs": [],
   "source": []
  }
 ],
 "metadata": {
  "kernelspec": {
   "display_name": "Python 3 (ipykernel)",
   "language": "python",
   "name": "python3"
  },
  "language_info": {
   "codemirror_mode": {
    "name": "ipython",
    "version": 3
   },
   "file_extension": ".py",
   "mimetype": "text/x-python",
   "name": "python",
   "nbconvert_exporter": "python",
   "pygments_lexer": "ipython3",
   "version": "3.9.13"
  }
 },
 "nbformat": 4,
 "nbformat_minor": 5
}
