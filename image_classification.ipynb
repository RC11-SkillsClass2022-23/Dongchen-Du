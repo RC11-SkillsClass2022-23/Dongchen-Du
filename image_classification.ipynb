{
  "nbformat": 4,
  "nbformat_minor": 0,
  "metadata": {
    "colab": {
      "provenance": [],
      "private_outputs": true,
      "mount_file_id": "1nAoExqaXxWZgYFFl21A_GdcueZbyCa1S",
      "authorship_tag": "ABX9TyPJxUsF8xGcL/5M1xBhFXT2",
      "include_colab_link": true
    },
    "kernelspec": {
      "name": "python3",
      "display_name": "Python 3"
    },
    "language_info": {
      "name": "python"
    },
    "gpuClass": "standard",
    "accelerator": "GPU"
  },
  "cells": [
    {
      "cell_type": "markdown",
      "metadata": {
        "id": "view-in-github",
        "colab_type": "text"
      },
      "source": [
        "<a href=\"https://colab.research.google.com/github/RC11-SkillsClass2022-23/Dongchen-Du/blob/main/image_classification.ipynb\" target=\"_parent\"><img src=\"https://colab.research.google.com/assets/colab-badge.svg\" alt=\"Open In Colab\"/></a>"
      ]
    },
    {
      "cell_type": "code",
      "execution_count": null,
      "metadata": {
        "id": "d3OTL0IlTAxI"
      },
      "outputs": [],
      "source": [
        "import tensorflow as tf\n",
        "import PIL\n",
        "from tensorflow.keras.models import Model\n",
        "from tensorflow.keras.layers import (Dropout, Dense, Softmax)\n",
        "from tensorflow.keras.applications import mobilenet as _mobilenet\n",
        "import random\n",
        "import os\n",
        "import numpy as np"
      ]
    },
    {
      "cell_type": "code",
      "source": [
        "def load_image(img_file, target_size=(224,224)):\n",
        "    X = np.zeros((1, *target_size, 3))\n",
        "    X[0, ] = np.asarray(tf.keras.preprocessing.image.load_img(\n",
        "        img_file, \n",
        "        target_size=target_size)\n",
        "    )\n",
        "    X = tf.keras.applications.mobilenet.preprocess_input(X)\n",
        "    return X\n",
        "\n",
        "def ensure_folder_exists(folder):\n",
        "    if not os.path.exists(folder):\n",
        "        os.makedirs(folder)"
      ],
      "metadata": {
        "id": "ydCUGgUvWOsX"
      },
      "execution_count": null,
      "outputs": []
    },
    {
      "cell_type": "code",
      "source": [
        "model = tf.keras.applications.mobilenet.MobileNet()\n",
        "model.summary()"
      ],
      "metadata": {
        "id": "k1JmCarn0NDG"
      },
      "execution_count": null,
      "outputs": []
    },
    {
      "cell_type": "code",
      "source": [
        "male_image_id = os.listdir('/content/drive/MyDrive/RC11 2022-23/male')[0]\n",
        "male_path = os.path.join('/content/drive/MyDrive/RC11 2022-23/male',male_image_id)\n",
        "male_image = load_image(male_path)\n",
        "\n",
        "tf.keras.preprocessing.image.load_img(male_path, target_size=(224,224))"
      ],
      "metadata": {
        "id": "cYM6iHGqa93d"
      },
      "execution_count": null,
      "outputs": []
    },
    {
      "cell_type": "code",
      "source": [
        "def load_video ():\n",
        "  videos = os.listdir('/content/drive/MyDrive/RC11_2022-23/videotoproress')\n",
        "\n",
        "  with open('input', 'w') as inputfile:\n",
        "    for v in videos:\n",
        "      if v.split('.')[-1] == 'mp4':\n",
        "        inputfile.write(v+'\\n')\n",
        "        \n"
      ],
      "metadata": {
        "id": "IVgZ9EtlbrOB"
      },
      "execution_count": null,
      "outputs": []
    },
    {
      "cell_type": "code",
      "source": [
        "load_video()"
      ],
      "metadata": {
        "id": "teJ8FXyncI9R"
      },
      "execution_count": null,
      "outputs": []
    },
    {
      "cell_type": "code",
      "source": [
        "!pip install --upgrade moviepy"
      ],
      "metadata": {
        "id": "7V5w9aWicM3j"
      },
      "execution_count": null,
      "outputs": []
    },
    {
      "cell_type": "code",
      "source": [
        "model.predict(male_image)"
      ],
      "metadata": {
        "id": "YYEF-l7Kgr3u"
      },
      "execution_count": null,
      "outputs": []
    },
    {
      "cell_type": "code",
      "source": [
        "model = tf.keras.applications.mobilenet.MobileNet(\n",
        "# The 3 is the three dimensions of the input: r,g,b.\n",
        "  input_shape=(224, 224, 3), \n",
        "  include_top=False, \n",
        "  pooling='avg'\n",
        ")"
      ],
      "metadata": {
        "id": "0ejSr-fUotdy"
      },
      "execution_count": null,
      "outputs": []
    },
    {
      "cell_type": "code",
      "source": [
        "male_image = load_image(male_path)\n",
        "model.predict(male_image).shape"
      ],
      "metadata": {
        "id": "msROUVJho0Y3"
      },
      "execution_count": null,
      "outputs": []
    },
    {
      "cell_type": "code",
      "source": [
        "x = Dropout(rate=0.4)(model.output)\n",
        "# This determines the number of outputs, and thus the number of categories, in my test case 2: dog or cat\n",
        "x = Dense(5)(x)\n",
        "x = Softmax()(x)\n",
        "model= Model(model.inputs, x)"
      ],
      "metadata": {
        "id": "sw7RD9xCpNiH"
      },
      "execution_count": null,
      "outputs": []
    },
    {
      "cell_type": "code",
      "source": [
        "for layer in model.layers[:-3]:\n",
        "    layer.trainable = False"
      ],
      "metadata": {
        "id": "XpRy5mq-pQhd"
      },
      "execution_count": null,
      "outputs": []
    },
    {
      "cell_type": "code",
      "source": [
        "from tensorflow.keras.optimizers import Adam\n",
        "model.compile(\n",
        "    optimizer=Adam(learning_rate=0.001),\n",
        "    loss='categorical_crossentropy'\n",
        ")"
      ],
      "metadata": {
        "id": "kzyQPhRypudn"
      },
      "execution_count": null,
      "outputs": []
    },
    {
      "cell_type": "code",
      "source": [
        "datagen = tf.keras.preprocessing.image.ImageDataGenerator(\n",
        "    preprocessing_function=_mobilenet.preprocess_input,\n",
        "    shear_range=0.2,\n",
        "    zoom_range=0.2,\n",
        "    horizontal_flip=True,\n",
        "    validation_split=0.1\n",
        ")\n",
        "\n",
        "ensure_folder_exists('training_aug')\n",
        "training = datagen.flow_from_directory( \n",
        "    '/content/drive/MyDrive/RC11_2022-23', \n",
        "    target_size=(224, 224),\n",
        "    save_to_dir='./training_aug',\n",
        "    subset='training'\n",
        ") \n",
        "\n",
        "ensure_folder_exists('validation_aug')\n",
        "validation = datagen.flow_from_directory( \n",
        "    '/content/drive/MyDrive/RC11_2022-23',\n",
        "    target_size=(224, 224),\n",
        "    save_to_dir='./validation_aug',\n",
        "    subset='validation'\n",
        ")"
      ],
      "metadata": {
        "id": "F2j7BkI5pxv8"
      },
      "execution_count": null,
      "outputs": []
    },
    {
      "cell_type": "code",
      "source": [
        "batch_size = 8\n",
        "\n",
        "history = model.fit(\n",
        "    x=training,\n",
        "    steps_per_epoch=training.samples // batch_size,\n",
        "    # this needs to be much higher than 1, but for demo here we'll keep it at this\n",
        "    epochs=1,\n",
        "    validation_data=validation,\n",
        "    validation_steps=validation.samples // batch_size\n",
        ")"
      ],
      "metadata": {
        "id": "p8MdAiX2cqFJ"
      },
      "execution_count": null,
      "outputs": []
    },
    {
      "cell_type": "code",
      "source": [
        "random_animal = random.choice(os.listdir('/content/drive/MyDrive/RC11 2022-23/animal'))\n",
        "animal_path = os.path.join('/content/drive/MyDrive/RC11 2022-23/animal',random_animal)\n",
        "animal = load_image(animal_path)"
      ],
      "metadata": {
        "id": "3WZ3j0r8csMq"
      },
      "execution_count": null,
      "outputs": []
    },
    {
      "cell_type": "code",
      "source": [
        "tf.keras.preprocessing.image.load_img(animal_path, target_size=(224,224))"
      ],
      "metadata": {
        "id": "AJy1we5vnZA8"
      },
      "execution_count": null,
      "outputs": []
    },
    {
      "cell_type": "code",
      "source": [
        "print(f'''animal:{np.round(model.predict(animal),2)}''')"
      ],
      "metadata": {
        "id": "TQVPjeyfo0uw"
      },
      "execution_count": null,
      "outputs": []
    },
    {
      "cell_type": "code",
      "source": [
        "fox_path = '/content/drive/MyDrive/RC11 2022-23/'\n",
        "fox = load_image(fox_path)"
      ],
      "metadata": {
        "id": "9emJq0HEpo5z"
      },
      "execution_count": null,
      "outputs": []
    },
    {
      "cell_type": "code",
      "source": [
        "#moviepy"
      ],
      "metadata": {
        "id": "yhLZw2QQchp-"
      },
      "execution_count": null,
      "outputs": []
    },
    {
      "cell_type": "code",
      "source": [
        "\n"
      ],
      "metadata": {
        "id": "lfPzyxBUZctt"
      },
      "execution_count": null,
      "outputs": []
    },
    {
      "cell_type": "code",
      "source": [
        "! git clone https://github.com/kenshohara/video-classification-3d-cnn-pytorch.git"
      ],
      "metadata": {
        "id": "vBL9hEilclGC"
      },
      "execution_count": null,
      "outputs": []
    },
    {
      "cell_type": "code",
      "source": [
        "\n",
        "%cd /content/video-classification-3d-cnn-pytorch\n",
        "!pwd\n"
      ],
      "metadata": {
        "id": "Hy7XvPcbfxAk"
      },
      "execution_count": null,
      "outputs": []
    },
    {
      "cell_type": "code",
      "source": [
        "import json\n",
        "import os\n",
        "from moviepy.editor import *\n",
        "from moviepy import *"
      ],
      "metadata": {
        "id": "RL4EuUEFf1GR"
      },
      "execution_count": null,
      "outputs": []
    },
    {
      "cell_type": "code",
      "source": [
        "\n",
        "videos = os.listdir('/content/drive/MyDrive/RC11_2022-23/videotoproress')\n",
        "\n",
        "with open('input', 'w') as inputfile:\n",
        "  for v in videos:\n",
        "    if v.split('.')[-1] == 'mp4':\n",
        "      inputfile.write(v+'\\n')"
      ],
      "metadata": {
        "id": "3xz3lNmaoteS"
      },
      "execution_count": null,
      "outputs": []
    },
    {
      "cell_type": "code",
      "source": [
        "state_dict =checkpoint['state_dict']\n",
        "        from collections import OrderedDict\n",
        "        new_state_dict = OrderedDict()\n",
        "\n",
        "        for k, v in state_dict.items():\n",
        "            if 'module' not in k:\n",
        "                k = 'module.'+k\n",
        "            else:\n",
        "                k = k.replace('features.module.', 'module.features.')\n",
        "            new_state_dict[k]=v\n",
        "\n",
        "        model.load_state_dict(new_state_dict)"
      ],
      "metadata": {
        "id": "-vTfmNB0ieeQ"
      },
      "execution_count": null,
      "outputs": []
    },
    {
      "cell_type": "code",
      "source": [
        "!python main.py --input input --video_root /content/drive/MyDrive/RC11_2022-23/videotoproress --output /content/drive/MyDrive/RC11_2022-23/output/output.json --model /content/drive/MyDrive/RC11_2022-23/pretrainedmodel/resnet-34-kinetics.pth --model_depth 34 --mode score --resnet_shortcut A\n",
        "     "
      ],
      "metadata": {
        "id": "m2Kh4z70pZsE"
      },
      "execution_count": null,
      "outputs": []
    },
    {
      "cell_type": "code",
      "source": [
        "! python generate_result_video/generate_result_video.py /content/drive/MyDrive/RC11_2022-23/output/output.json /content/drive/MyDrive/RC11_2022-23/videotoproress /content/drive/MyDrive/RC11_2022-23/video_done class_names_list 2\n",
        "     "
      ],
      "metadata": {
        "id": "BY8R3KBZj4ik"
      },
      "execution_count": null,
      "outputs": []
    },
    {
      "cell_type": "code",
      "source": [
        "\n",
        "file = open('/content/drive/MyDrive/RC11_2022-23/output/output.json')\n",
        "segments = json.load(file)"
      ],
      "metadata": {
        "id": "P6pPxA6bAWzB"
      },
      "execution_count": null,
      "outputs": []
    },
    {
      "cell_type": "code",
      "source": [
        "\n",
        "print(len(segments))"
      ],
      "metadata": {
        "id": "Eb3lbydvBG1g"
      },
      "execution_count": null,
      "outputs": []
    },
    {
      "cell_type": "code",
      "source": [
        "\n",
        "segments[0].keys()"
      ],
      "metadata": {
        "id": "tBHCyvDsBI2x"
      },
      "execution_count": null,
      "outputs": []
    },
    {
      "cell_type": "code",
      "source": [
        "segments[0]['video']"
      ],
      "metadata": {
        "id": "Vb-duvhiBKNt"
      },
      "execution_count": null,
      "outputs": []
    },
    {
      "cell_type": "code",
      "source": [
        "\n",
        "segments[0]['clips'][0].keys()"
      ],
      "metadata": {
        "id": "lqLz4WT3BL01"
      },
      "execution_count": null,
      "outputs": []
    },
    {
      "cell_type": "code",
      "source": [
        "segments[0]['clips'][0]['segment']"
      ],
      "metadata": {
        "id": "u9wHdUztBN6s"
      },
      "execution_count": null,
      "outputs": []
    },
    {
      "cell_type": "code",
      "source": [
        "segments[0]['clips'][0]['label']"
      ],
      "metadata": {
        "id": "tCvrvE5ZBSyu"
      },
      "execution_count": null,
      "outputs": []
    },
    {
      "cell_type": "code",
      "source": [
        "\n",
        "classNames = []\n",
        "with open('class_names_list', 'r') as class_names_list:\n",
        "  index = 0\n",
        "  for c in class_names_list:\n",
        "    classNames.append({'index':index, 'name':c, 'score':0})\n",
        "    index += 1\n"
      ],
      "metadata": {
        "id": "uQGK4gAqD1gu"
      },
      "execution_count": null,
      "outputs": []
    },
    {
      "cell_type": "code",
      "source": [
        "classNames[0]"
      ],
      "metadata": {
        "id": "fO6DkCYrEDJj"
      },
      "execution_count": null,
      "outputs": []
    },
    {
      "cell_type": "code",
      "source": [
        "\n",
        "for i in range(len(segments[0]['clips'][0]['scores'])):\n",
        "  score = segments[0]['clips'][0]['scores'][i]\n",
        "  classNames[i]['score'] = score\n",
        "     "
      ],
      "metadata": {
        "id": "1b_Ap6f_Eesi"
      },
      "execution_count": null,
      "outputs": []
    },
    {
      "cell_type": "code",
      "source": [
        "classNames.sort(key = lambda x : x['score'], reverse = True)"
      ],
      "metadata": {
        "id": "N7m9qscqEfkK"
      },
      "execution_count": null,
      "outputs": []
    },
    {
      "cell_type": "code",
      "source": [
        "\n",
        "video = VideoFileClip(r\"/content/drive/MyDrive/RC11_2022-23/videotoproress/needle_work.mp4\")\n",
        "subVideo = video.subclip(2,5)\n",
        "subVideo.write_videofile(\"/content/drive/MyDrive/RC11_2022-23/video_done/frame-032748.mp4\", audio_codec='aac')"
      ],
      "metadata": {
        "id": "0YG2tjhEF_3C"
      },
      "execution_count": null,
      "outputs": []
    },
    {
      "cell_type": "code",
      "source": [
        "subVideo.ipython_display()"
      ],
      "metadata": {
        "id": "JMZODXSoHZVS"
      },
      "execution_count": null,
      "outputs": []
    },
    {
      "cell_type": "code",
      "source": [
        "\n",
        "frame_length = 1/video.fps"
      ],
      "metadata": {
        "id": "76aJf63lHeUC"
      },
      "execution_count": null,
      "outputs": []
    },
    {
      "cell_type": "code",
      "source": [
        "\n",
        "label_periods = []\n",
        "for f in segments:\n",
        "  print(f['video'])\n",
        "  currentLabel = None\n",
        "  ts = 0\n",
        "  te = 0\n",
        "  for c in f['clips']:\n",
        "    label = c['label']\n",
        "    s = c['segment'][0]\n",
        "    e = c['segment'][1]\n",
        "    if label == currentLabel:\n",
        "      te = e \n",
        "    else:\n",
        "      label_periods.append([(ts,te),currentLabel])\n",
        "\n",
        "      ts = s\n",
        "      te = e \n",
        "      currentLabel = label\n",
        "     "
      ],
      "metadata": {
        "id": "bLeOP-ihJnCK"
      },
      "execution_count": null,
      "outputs": []
    },
    {
      "cell_type": "code",
      "source": [
        "\n",
        "\n",
        "label_periods"
      ],
      "metadata": {
        "id": "w_LFwaOMJolR"
      },
      "execution_count": null,
      "outputs": []
    },
    {
      "cell_type": "code",
      "source": [
        "\n",
        "longPeriods = []\n",
        "for lp in label_periods:\n",
        "  if lp[0][1]-lp[0][0] > 1/frame_length:\n",
        "    longPeriods.append(lp)"
      ],
      "metadata": {
        "id": "dRjfcxSmKRwa"
      },
      "execution_count": null,
      "outputs": []
    },
    {
      "cell_type": "code",
      "source": [
        "\n",
        "longPeriods"
      ],
      "metadata": {
        "id": "c6FGChtSKTxt"
      },
      "execution_count": null,
      "outputs": []
    },
    {
      "cell_type": "code",
      "source": [
        "\n",
        "clips = []\n",
        "for l in longPeriods:\n",
        "  subclip = video.subclip(l[0][0]*frame_length,l[0][1]*frame_length)\n",
        "  clips.append([subclip,l[1]+'_'+str(int(l[0][0]*frame_length))])"
      ],
      "metadata": {
        "id": "moaIty_mKyPb"
      },
      "execution_count": null,
      "outputs": []
    },
    {
      "cell_type": "code",
      "source": [
        "clips"
      ],
      "metadata": {
        "id": "-VcbvtgALBj9"
      },
      "execution_count": null,
      "outputs": []
    },
    {
      "cell_type": "code",
      "source": [
        "\n",
        "folderPath = '/content/drive/MyDrive/RC11_2022-23/video_done'\n",
        "for c in clips:\n",
        "  c[0].write_videofile(folderPath + c[1] + '.mp4', audio_codec='aac')"
      ],
      "metadata": {
        "id": "BlySJKfsLWpd"
      },
      "execution_count": null,
      "outputs": []
    },
    {
      "cell_type": "code",
      "source": [
        "\n",
        "!python main.py --input input --video_root /content/drive/MyDrive/RC11_2022-23/videotoproress --output /content/drive/MyDrive/RC11_2022-23/output/output2.json --model /content/drive/MyDrive/RC11_2022-23/pretrainedmodel/resnet-34-kinetics.pth --model_depth 34 --mode feature --resnet_shortcut A \n",
        "     "
      ],
      "metadata": {
        "id": "m1BGLzo_M7b_"
      },
      "execution_count": null,
      "outputs": []
    },
    {
      "cell_type": "code",
      "source": [
        "\n",
        "file = open('/content/drive/MyDrive/RC11_2022-23/output/output2.json')\n",
        "segments = json.load(file)"
      ],
      "metadata": {
        "id": "GEqWzouNOevz"
      },
      "execution_count": null,
      "outputs": []
    },
    {
      "cell_type": "code",
      "source": [
        "\n",
        "len(segments)"
      ],
      "metadata": {
        "id": "-ak2Z_I9Oi3n"
      },
      "execution_count": null,
      "outputs": []
    },
    {
      "cell_type": "code",
      "source": [
        "for s in segments: print(s['video'])"
      ],
      "metadata": {
        "id": "9oLmrIklV2DL"
      },
      "execution_count": null,
      "outputs": []
    },
    {
      "cell_type": "code",
      "source": [
        "\n",
        "Features1 = []\n",
        "for s in segments[0]['clips']:\n",
        "  Features1.append(np.array(s['features']))  "
      ],
      "metadata": {
        "id": "e1sxy9NeV4ma"
      },
      "execution_count": null,
      "outputs": []
    },
    {
      "cell_type": "code",
      "source": [
        "\n",
        "print(len(Features1))\n",
        "     "
      ],
      "metadata": {
        "id": "iGUuBjRCWHH7"
      },
      "execution_count": null,
      "outputs": []
    },
    {
      "cell_type": "code",
      "source": [
        "\n",
        "Features2 = []\n",
        "for s in segments[1]['clips']:\n",
        "  Features2.append(np.array(s['features']))  "
      ],
      "metadata": {
        "id": "7xGhH5V9WLwV"
      },
      "execution_count": null,
      "outputs": []
    },
    {
      "cell_type": "code",
      "source": [
        "print(len(Features2))"
      ],
      "metadata": {
        "id": "o6CddSB_WQ5V"
      },
      "execution_count": null,
      "outputs": []
    },
    {
      "cell_type": "code",
      "source": [
        "\n",
        "bestRangeStart = 0\n",
        "bestRangeScore = 100000000\n",
        "for i in range(len(Features2)-len(Features1)):\n",
        "  distance = 0\n",
        "  for j in range(len(Features1)):\n",
        "    d = np.linalg.norm(Features2[i+j]-Features1[j])\n",
        "    distance += d\n",
        "  print(distance)\n",
        "  if distance < bestRangeScore:\n",
        "    bestRangeScore = distance\n",
        "    bestRangeStart = i\n",
        "     "
      ],
      "metadata": {
        "id": "LiuurqtVWWKu"
      },
      "execution_count": null,
      "outputs": []
    },
    {
      "cell_type": "code",
      "source": [
        "\n"
      ],
      "metadata": {
        "id": "oNxgD4TgeezE"
      },
      "execution_count": null,
      "outputs": []
    },
    {
      "cell_type": "code",
      "source": [
        "bestRangeStart"
      ],
      "metadata": {
        "id": "JMM2YK6qWixs"
      },
      "execution_count": null,
      "outputs": []
    },
    {
      "cell_type": "code",
      "source": [
        "\n",
        "kbVideo = VideoFileClip(r\"/content/drive/MyDrive/RC11-SkillsClass2022/VideosToProcess/KillBill.mp4\")\n",
        "kbfps = kbVideo.fps\n",
        "kbFrameLength = 1/kbfps\n",
        "\n",
        "nrFrames = len(mhFeatures)*16\n",
        "startFrame = bestRangeStart*16\n",
        "\n",
        "startTime = startFrame*kbFrameLength\n",
        "endTime = startTime+nrFrames*kbFrameLength\n",
        "\n",
        "kbMatchedMhVideo = kbVideo.subclip(startTime,endTime)\n"
      ],
      "metadata": {
        "id": "wymSka1IVx8o"
      },
      "execution_count": null,
      "outputs": []
    },
    {
      "cell_type": "code",
      "source": [
        "\n",
        "Video2 = VideoFileClip(r\"/content/drive/MyDrive/RC11_2022-23/videotoproress/08489519-f364-42d2-983b-4d8ae411e0a9.mp4\")\n",
        "fps2 = Video2.fps\n",
        "FrameLength02 = 1/fps2\n",
        "\n",
        "nrFrames = len(Features1)*16\n",
        "startFrame = bestRangeStart*16\n",
        "\n",
        "startTime = startFrame*FrameLength02\n",
        "endTime = startTime+nrFrames*FrameLength02\n",
        "\n",
        "MatchedMhVideo01 = Video2.subclip(startTime,endTime)\n",
        "     "
      ],
      "metadata": {
        "id": "-amJIMxSZAAB"
      },
      "execution_count": null,
      "outputs": []
    },
    {
      "cell_type": "code",
      "source": [
        "MatchedMhVideo01.ipython_display()\n",
        "     "
      ],
      "metadata": {
        "id": "5LuzntXLaIGo"
      },
      "execution_count": null,
      "outputs": []
    }
  ]
}