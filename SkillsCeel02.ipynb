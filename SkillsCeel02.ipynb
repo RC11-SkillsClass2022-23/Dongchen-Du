{
 "cells": [
  {
   "cell_type": "markdown",
   "id": "ab930fb2",
   "metadata": {},
   "source": [
    "# Lambda calculus\n",
    "\n",
    "The most obvious place where we encounter lambda expressions in Python is with their 'anonymous functions', so called because you do not have to name these functions. For example, the following is an anonymous function that doubles its input:"
   ]
  },
  {
   "cell_type": "code",
   "execution_count": null,
   "id": "1d8653f6",
   "metadata": {
    "scrolled": false
   },
   "outputs": [],
   "source": [
    "lambda x: x*2"
   ]
  },
  {
   "cell_type": "code",
   "execution_count": 1,
   "id": "5b55b839",
   "metadata": {},
   "outputs": [],
   "source": [
    "list_1 = [1,2,3,4,5,6,7,8,9]"
   ]
  },
  {
   "cell_type": "code",
   "execution_count": 2,
   "id": "0a20eabf",
   "metadata": {},
   "outputs": [
    {
     "name": "stdout",
     "output_type": "stream",
     "text": [
      "[1, 2, 3, 4, 5, 6, 7, 8, 9]\n"
     ]
    }
   ],
   "source": [
    "print(list_1)"
   ]
  },
  {
   "cell_type": "code",
   "execution_count": 4,
   "id": "ef575a4d",
   "metadata": {},
   "outputs": [
    {
     "data": {
      "text/plain": [
       "<filter at 0x1749100afa0>"
      ]
     },
     "execution_count": 4,
     "metadata": {},
     "output_type": "execute_result"
    }
   ],
   "source": [
    "filter(lambda x: x%2==0,list_1)"
   ]
  },
  {
   "cell_type": "code",
   "execution_count": 5,
   "id": "e6ab3d8a",
   "metadata": {},
   "outputs": [
    {
     "name": "stdout",
     "output_type": "stream",
     "text": [
      "[1, 2, 3, 4, 5, 6, 7, 8, 9]\n"
     ]
    }
   ],
   "source": [
    "print(list_1)"
   ]
  },
  {
   "cell_type": "code",
   "execution_count": 7,
   "id": "a8e8b8cb",
   "metadata": {},
   "outputs": [],
   "source": [
    "list_2 = list(filter(lambda x: x%2==0,list_1))"
   ]
  },
  {
   "cell_type": "code",
   "execution_count": 8,
   "id": "98903d61",
   "metadata": {},
   "outputs": [
    {
     "name": "stdout",
     "output_type": "stream",
     "text": [
      "[2, 4, 6, 8]\n"
     ]
    }
   ],
   "source": [
    "print(list_2)"
   ]
  },
  {
   "cell_type": "markdown",
   "id": "674e8225",
   "metadata": {},
   "source": [
    "The defining of the above function corresponds with the 'lambda abstraction rule' of lambda calculus. We have given this function no input, so we get no output either. Furthermore, since the function is anonymous, we cannot reference its name and invoke it later. Instead, we should immediately supply the lambda expression with some input:"
   ]
  },
  {
   "cell_type": "code",
   "execution_count": null,
   "id": "ed8cebc9",
   "metadata": {},
   "outputs": [],
   "source": [
    "(lambda x: x*2)(6)"
   ]
  },
  {
   "cell_type": "markdown",
   "id": "0fa9bb16",
   "metadata": {},
   "source": [
    "Python will then produce the output of this function applied to the input (corresponding to the 'application rule'). We do not need to limit ourselves to one parameter either, as this exponential growth formula shows:"
   ]
  },
  {
   "cell_type": "code",
   "execution_count": null,
   "id": "0c03aa8d",
   "metadata": {},
   "outputs": [],
   "source": [
    "(lambda x, g, t: x*g**t)(2,3,3)"
   ]
  },
  {
   "cell_type": "markdown",
   "id": "51e16998",
   "metadata": {},
   "source": [
    "we actually *can* assign a variable name to a lambda expression if we want, in which case it is just an alternative syntax for defining a function. The following two are identical functions:"
   ]
  },
  {
   "cell_type": "code",
   "execution_count": null,
   "id": "267834b5",
   "metadata": {},
   "outputs": [],
   "source": [
    "def double_a(x):\n",
    "    return x*2\n",
    "\n",
    "double_b = lambda x: x*2\n",
    "\n",
    "double_b(4)"
   ]
  },
  {
   "cell_type": "markdown",
   "id": "48976e54",
   "metadata": {},
   "source": [
    "In general, the 'normal' way is preferred. A great way to use lambda expressions is to have a regular function (that wants some argument *n*) **return** a lambda expression that involves *n*. Think of the regular function as a template for producing a family of lambda expressions depending on *n*\n",
    "\n",
    "### Exercise 1\n",
    "Define a function with at least 1 parameter that returns a lambda expression with also at least 1 parameter and uses the argument of the function. Show, with a few examples, what the function does for different inputs for the function (and the lambda expression)."
   ]
  },
  {
   "cell_type": "code",
   "execution_count": 36,
   "id": "e3f7f9b1",
   "metadata": {},
   "outputs": [],
   "source": [
    "def fn(x):\n",
    "    return (lambda x : x+x)(x)\n",
    "    "
   ]
  },
  {
   "cell_type": "code",
   "execution_count": 37,
   "id": "9617fe06",
   "metadata": {},
   "outputs": [
    {
     "data": {
      "text/plain": [
       "12"
      ]
     },
     "execution_count": 37,
     "metadata": {},
     "output_type": "execute_result"
    }
   ],
   "source": [
    "fn(6)"
   ]
  },
  {
   "cell_type": "code",
   "execution_count": 38,
   "id": "876cd35c",
   "metadata": {},
   "outputs": [
    {
     "data": {
      "text/plain": [
       "16"
      ]
     },
     "execution_count": 38,
     "metadata": {},
     "output_type": "execute_result"
    }
   ],
   "source": [
    "fn(8)"
   ]
  },
  {
   "cell_type": "code",
   "execution_count": 39,
   "id": "a554b399",
   "metadata": {},
   "outputs": [
    {
     "data": {
      "text/plain": [
       "20002"
      ]
     },
     "execution_count": 39,
     "metadata": {},
     "output_type": "execute_result"
    }
   ],
   "source": [
    "fn(10001)"
   ]
  },
  {
   "cell_type": "markdown",
   "id": "8c41f3c8",
   "metadata": {},
   "source": [
    "Another frequent use is for manipulating iterable data objects (like lists, dataframes, dictionaries, etc), such as with the .sort() method, or the map() and filter() functions. The map function applies an operation to every element of the data  object. For both map() and filter(), you need to wrap them with list() to actually return the mapped or filtered list; so it takes the form of *list(filter(lambda x: ..., list1))*.\n",
    "\n",
    "### Exercise 2\n",
    "Use lambda expressions and the above-mentioned functions to manipulate the data (a list of dictionaries) below as follows:\n",
    "* sort the data by country\n",
    "* return a filtered list that has only those entries whose 'name' starts with an A or a B\n",
    "* return a filtered list that has only those entries whose 'number' is not divisible by 2 or 3\n",
    "* return a list with the same values as the original, except that each 'number' entry has been doubled\n"
   ]
  },
  {
   "cell_type": "code",
   "execution_count": 2,
   "id": "7d1b8751",
   "metadata": {},
   "outputs": [],
   "source": [
    "data = [{'country': \"Ukraine\",'number': \"3\",'name': \"Derek Bolton\"},{'country': \"United States\",'number': \"3\",'name': \"Britanney Durham\"},{'country': \"China\",'number': \"7\",'name': \"Rachel Dickson\"},{'country': \"India\",'number': \"4\",'name': \"Oren Dominguez\"},{'country': \"Norway\",'number': \"5\",'name': \"Keane Dean\"},{'country': \"New Zealand\",'number': \"8\",'name': \"Tarik Coleman\"},{'country': \"South Africa\",'number': \"3\",'name': \"Uriel Greene\"},{'country': \"China\",'number': \"6\",'name': \"Minerva Shields\"},{'country': \"Norway\",'number': \"7\",'name': \"Robin Butler\"},{'country': \"Germany\",'number': \"7\",'name': \"Stacey Nixon\"},{'country': \"South Africa\",'number': \"4\",'name': \"Glenna Clark\"},{'country': \"Australia\",'number': \"7\",'name': \"Adena Smith\"},{'country': \"Italy\",'number': \"2\",'name': \"Ronan Ellis\"},{'country': \"Chile\",'number': \"1\",'name': \"Ignatius Guy\"},{'country': \"Belgium\",'number': \"8\",'name': \"Barclay Lindsey\"},{'country': \"Peru\",'number': \"2\",'name': \"Fuller Burris\"},{'country': \"Ukraine\",'number': \"2\",'name': \"Kylan Witt\"},{'country': \"United States\",'number': \"1\",'name': \"Kitra Willis\"},{'country': \"Austria\",'number': \"6\",'name': \"Indigo Dillard\"},{'country': \"Chile\",'number': \"3\",'name': \"Benedict Powell\"},{'country': \"Russian Federation\",'number': \"9\",'name': \"Duncan Ware\"},{'country': \"Peru\",'number': \"7\",'name': \"Abra Lewis\"},{'country': \"China\",'number': \"5\",'name': \"Callie Cole\"},{'country': \"United States\",'number': \"0\",'name': \"Cedric Gates\"},{'country': \"Ukraine\",'number': \"7\",'name': \"Malcolm Cox\"},{'country': \"Brazil\",'number': \"6\",'name': \"Connor Potts\"},{'country': \"Sweden\",'number': \"7\",'name': \"Lyle Nguyen\"},{'country': \"United States\",'number': \"3\",'name': \"Rudyard Barrett\"},{'country': \"Costa Rica\",'number': \"2\",'name': \"Judah Brock\"},{'country': \"South Korea\",'number': \"2\",'name': \"Lucius Snider\"},{'country': \"China\",'number': \"1\",'name': \"Cassady Mcdaniel\"},{'country': \"Singapore\",'number': \"2\",'name': \"Allegra Baird\"},{'country': \"Philippines\",'number': \"4\",'name': \"Omar Burgess\"},{'country': \"Turkey\",'number': \"7\",'name': \"Kenyon Rosa\"},{'country': \"Poland\",'number': \"6\",'name': \"Yen Sargent\"},{'country': \"China\",'number': \"3\",'name': \"Rashad Grimes\"},{'country': \"Spain\",'number': \"7\",'name': \"Tamekah Gutierrez\"},{'country': \"Ukraine\",'number': \"3\",'name': \"Liberty Mathis\"},{'country': \"Mexico\",'number': \"3\",'name': \"Rylee Sharpe\"},{'country': \"Mexico\",'number': \"3\",'name': \"Brynn Hinton\"},{'country': \"Sweden\",'number': \"2\",'name': \"Quinn Berg\"},{'country': \"Philippines\",'number': \"9\",'name': \"Simone Tanner\"},{'country': \"Ireland\",'number': \"2\",'name': \"Simon Giles\"},{'country': \"United Kingdom\",'number': \"10\",'name': \"Zenia Coffey\"},{'country': \"Mexico\",'number': \"2\",'name': \"Yael Glass\"},{'country': \"Colombia\",'number': \"5\",'name': \"Inga Russell\"},{'country': \"United Kingdom\",'number': \"1\",'name': \"Brendan Pearson\"},{'country': \"Austria\",'number': \"3\",'name': \"Shafira Parks\"},{'country': \"India\",'number': \"9\",'name': \"Dante Charles\"},{'country': \"Sweden\",'number': \"8\",'name': \"Kylee Good\"},{'country': \"Canada\",'number': \"1\",'name': \"September Bryan\"},{'country': \"Costa Rica\",'number': \"5\",'name': \"Hakeem Flowers\"},{'country': \"Peru\",'number': \"0\",'name': \"Ross Moss\"},{'country': \"Spain\",'number': \"8\",'name': \"Bo Hardy\"},{'country': \"Austria\",'number': \"2\",'name': \"Davis Cardenas\"},{'country': \"Ireland\",'number': \"2\",'name': \"Lane Chandler\"},{'country': \"Ukraine\",'number': \"3\",'name': \"Mohammad Holder\"},{'country': \"Vietnam\",'number': \"8\",'name': \"Jonas Bryan\"},{'country': \"Costa Rica\",'number': \"0\",'name': \"Eve Rivas\"},{'country': \"Australia\",'number': \"4\",'name': \"Elton Collins\"},{'country': \"Norway\",'number': \"8\",'name': \"Cain Fields\"},{'country': \"Vietnam\",'number': \"0\",'name': \"Iliana Daniels\"},{'country': \"Mexico\",'number': \"7\",'name': \"Rajah Robles\"},{'country': \"Australia\",'number': \"3\",'name': \"Charity Conner\"},{'country': \"Chile\",'number': \"5\",'name': \"Kay Parsons\"},{'country': \"Ireland\",'number': \"4\",'name': \"Rachel Howell\"},{'country': \"Singapore\",'number': \"3\",'name': \"Walter Forbes\"},{'country': \"Colombia\",'number': \"1\",'name': \"Gray Hayden\"},{'country': \"Netherlands\",'number': \"9\",'name': \"Ivana Compton\"},{'country': \"South Korea\",'number': \"8\",'name': \"Jamal Kelly\"},{'country': \"Pakistan\",'number': \"0\",'name': \"Robert Cunningham\"},{'country': \"Spain\",'number': \"4\",'name': \"Ignatius Newman\"},{'country': \"Canada\",'number': \"8\",'name': \"Gisela Glenn\"},{'country': \"Vietnam\",'number': \"1\",'name': \"Eliana Nicholson\"},{'country': \"Ukraine\",'number': \"4\",'name': \"Christen James\"},{'country': \"France\",'number': \"4\",'name': \"Devin Spears\"},{'country': \"Costa Rica\",'number': \"3\",'name': \"Phelan Hodges\"},{'country': \"Chile\",'number': \"4\",'name': \"Stewart Coffey\"},{'country': \"Singapore\",'number': \"6\",'name': \"Kasper Justice\"},{'country': \"Italy\",'number': \"7\",'name': \"Xanthus Wilkerson\"},{'country': \"Italy\",'number': \"6\",'name': \"Debra Melendez\"},{'country': \"Germany\",'number': \"6\",'name': \"Galvin Morrison\"},{'country': \"Norway\",'number': \"10\",'name': \"Britanney Daniels\"},{'country': \"Italy\",'number': \"8\",'name': \"Steel Cantu\"},{'country': \"Mexico\",'number': \"7\",'name': \"Graham Ewing\"},{'country': \"China\",'number': \"3\",'name': \"Maia Dunn\"},{'country': \"Australia\",'number': \"3\",'name': \"Violet Thornton\"},{'country': \"Canada\",'number': \"5\",'name': \"Cleo Cardenas\"},{'country': \"United States\",'number': \"8\",'name': \"Castor Bowen\"},{'country': \"Australia\",'number': \"8\",'name': \"Wyatt Carey\"},{'country': \"Philippines\",'number': \"5\",'name': \"Paul Padilla\"},{'country': \"Costa Rica\",'number': \"8\",'name': \"Germane Welch\"},{'country': \"South Korea\",'number': \"4\",'name': \"Zephr Deleon\"},{'country': \"Russian Federation\",'number': \"9\",'name': \"Lionel Armstrong\"},{'country': \"Brazil\",'number': \"6\",'name': \"Eleanor Solomon\"},{'country': \"Nigeria\",'number': \"7\",'name': \"Rachel Woods\"},{'country': \"Indonesia\",'number': \"9\",'name': \"Philip Taylor\"},{'country': \"Brazil\",'number': \"7\",'name': \"Lilah Shelton\"},{'country': \"United Kingdom\",'number': \"3\",'name': \"Gillian Harrington\"},{'country': \"Mexico\",'number': \"3\",'name': \"Odessa Sutton\"}]\n"
   ]
  },
  {
   "cell_type": "code",
   "execution_count": 3,
   "id": "3ac51b80",
   "metadata": {},
   "outputs": [],
   "source": [
    "x = data[0]['name'][0]"
   ]
  },
  {
   "cell_type": "code",
   "execution_count": 4,
   "id": "e0d9fe0b",
   "metadata": {},
   "outputs": [],
   "source": [
    "list_filtered = list(filter(lambda x: x['name'][0] == 'A' or x['name'][0] == 'B' , data))"
   ]
  },
  {
   "cell_type": "code",
   "execution_count": 5,
   "id": "e6241975",
   "metadata": {},
   "outputs": [
    {
     "data": {
      "text/plain": [
       "[{'country': 'United States', 'number': '3', 'name': 'Britanney Durham'},\n",
       " {'country': 'Australia', 'number': '7', 'name': 'Adena Smith'},\n",
       " {'country': 'Belgium', 'number': '8', 'name': 'Barclay Lindsey'},\n",
       " {'country': 'Chile', 'number': '3', 'name': 'Benedict Powell'},\n",
       " {'country': 'Peru', 'number': '7', 'name': 'Abra Lewis'},\n",
       " {'country': 'Singapore', 'number': '2', 'name': 'Allegra Baird'},\n",
       " {'country': 'Mexico', 'number': '3', 'name': 'Brynn Hinton'},\n",
       " {'country': 'United Kingdom', 'number': '1', 'name': 'Brendan Pearson'},\n",
       " {'country': 'Spain', 'number': '8', 'name': 'Bo Hardy'},\n",
       " {'country': 'Norway', 'number': '10', 'name': 'Britanney Daniels'}]"
      ]
     },
     "execution_count": 5,
     "metadata": {},
     "output_type": "execute_result"
    }
   ],
   "source": [
    "list_filtered"
   ]
  },
  {
   "cell_type": "code",
   "execution_count": 6,
   "id": "8bdc1d10",
   "metadata": {},
   "outputs": [
    {
     "data": {
      "text/plain": [
       "[{'country': 'China', 'number': '7', 'name': 'Rachel Dickson'},\n",
       " {'country': 'Norway', 'number': '5', 'name': 'Keane Dean'},\n",
       " {'country': 'Norway', 'number': '7', 'name': 'Robin Butler'},\n",
       " {'country': 'Germany', 'number': '7', 'name': 'Stacey Nixon'},\n",
       " {'country': 'Australia', 'number': '7', 'name': 'Adena Smith'},\n",
       " {'country': 'Chile', 'number': '1', 'name': 'Ignatius Guy'},\n",
       " {'country': 'United States', 'number': '1', 'name': 'Kitra Willis'},\n",
       " {'country': 'Peru', 'number': '7', 'name': 'Abra Lewis'},\n",
       " {'country': 'China', 'number': '5', 'name': 'Callie Cole'},\n",
       " {'country': 'Ukraine', 'number': '7', 'name': 'Malcolm Cox'},\n",
       " {'country': 'Sweden', 'number': '7', 'name': 'Lyle Nguyen'},\n",
       " {'country': 'China', 'number': '1', 'name': 'Cassady Mcdaniel'},\n",
       " {'country': 'Turkey', 'number': '7', 'name': 'Kenyon Rosa'},\n",
       " {'country': 'Spain', 'number': '7', 'name': 'Tamekah Gutierrez'},\n",
       " {'country': 'Colombia', 'number': '5', 'name': 'Inga Russell'},\n",
       " {'country': 'United Kingdom', 'number': '1', 'name': 'Brendan Pearson'},\n",
       " {'country': 'Canada', 'number': '1', 'name': 'September Bryan'},\n",
       " {'country': 'Costa Rica', 'number': '5', 'name': 'Hakeem Flowers'},\n",
       " {'country': 'Mexico', 'number': '7', 'name': 'Rajah Robles'},\n",
       " {'country': 'Chile', 'number': '5', 'name': 'Kay Parsons'},\n",
       " {'country': 'Colombia', 'number': '1', 'name': 'Gray Hayden'},\n",
       " {'country': 'Vietnam', 'number': '1', 'name': 'Eliana Nicholson'},\n",
       " {'country': 'Italy', 'number': '7', 'name': 'Xanthus Wilkerson'},\n",
       " {'country': 'Mexico', 'number': '7', 'name': 'Graham Ewing'},\n",
       " {'country': 'Canada', 'number': '5', 'name': 'Cleo Cardenas'},\n",
       " {'country': 'Philippines', 'number': '5', 'name': 'Paul Padilla'},\n",
       " {'country': 'Nigeria', 'number': '7', 'name': 'Rachel Woods'},\n",
       " {'country': 'Brazil', 'number': '7', 'name': 'Lilah Shelton'}]"
      ]
     },
     "execution_count": 6,
     "metadata": {},
     "output_type": "execute_result"
    }
   ],
   "source": [
    "list(filter(lambda x: int(x['number'])%3 != 0 and int(x['number'])%2 != 0  , data))"
   ]
  },
  {
   "cell_type": "code",
   "execution_count": 7,
   "id": "b9db75b7",
   "metadata": {},
   "outputs": [
    {
     "name": "stdout",
     "output_type": "stream",
     "text": [
      "D\n"
     ]
    }
   ],
   "source": [
    "print(x)"
   ]
  },
  {
   "cell_type": "code",
   "execution_count": 8,
   "id": "415b85c7",
   "metadata": {},
   "outputs": [
    {
     "name": "stdout",
     "output_type": "stream",
     "text": [
      "[{'country': 'Ukraine', 'number': '3', 'name': 'Derek Bolton'}, {'country': 'United States', 'number': '3', 'name': 'Britanney Durham'}, {'country': 'China', 'number': '7', 'name': 'Rachel Dickson'}, {'country': 'India', 'number': '4', 'name': 'Oren Dominguez'}, {'country': 'Norway', 'number': '5', 'name': 'Keane Dean'}, {'country': 'New Zealand', 'number': '8', 'name': 'Tarik Coleman'}, {'country': 'South Africa', 'number': '3', 'name': 'Uriel Greene'}, {'country': 'China', 'number': '6', 'name': 'Minerva Shields'}, {'country': 'Norway', 'number': '7', 'name': 'Robin Butler'}, {'country': 'Germany', 'number': '7', 'name': 'Stacey Nixon'}, {'country': 'South Africa', 'number': '4', 'name': 'Glenna Clark'}, {'country': 'Australia', 'number': '7', 'name': 'Adena Smith'}, {'country': 'Italy', 'number': '2', 'name': 'Ronan Ellis'}, {'country': 'Chile', 'number': '1', 'name': 'Ignatius Guy'}, {'country': 'Belgium', 'number': '8', 'name': 'Barclay Lindsey'}, {'country': 'Peru', 'number': '2', 'name': 'Fuller Burris'}, {'country': 'Ukraine', 'number': '2', 'name': 'Kylan Witt'}, {'country': 'United States', 'number': '1', 'name': 'Kitra Willis'}, {'country': 'Austria', 'number': '6', 'name': 'Indigo Dillard'}, {'country': 'Chile', 'number': '3', 'name': 'Benedict Powell'}, {'country': 'Russian Federation', 'number': '9', 'name': 'Duncan Ware'}, {'country': 'Peru', 'number': '7', 'name': 'Abra Lewis'}, {'country': 'China', 'number': '5', 'name': 'Callie Cole'}, {'country': 'United States', 'number': '0', 'name': 'Cedric Gates'}, {'country': 'Ukraine', 'number': '7', 'name': 'Malcolm Cox'}, {'country': 'Brazil', 'number': '6', 'name': 'Connor Potts'}, {'country': 'Sweden', 'number': '7', 'name': 'Lyle Nguyen'}, {'country': 'United States', 'number': '3', 'name': 'Rudyard Barrett'}, {'country': 'Costa Rica', 'number': '2', 'name': 'Judah Brock'}, {'country': 'South Korea', 'number': '2', 'name': 'Lucius Snider'}, {'country': 'China', 'number': '1', 'name': 'Cassady Mcdaniel'}, {'country': 'Singapore', 'number': '2', 'name': 'Allegra Baird'}, {'country': 'Philippines', 'number': '4', 'name': 'Omar Burgess'}, {'country': 'Turkey', 'number': '7', 'name': 'Kenyon Rosa'}, {'country': 'Poland', 'number': '6', 'name': 'Yen Sargent'}, {'country': 'China', 'number': '3', 'name': 'Rashad Grimes'}, {'country': 'Spain', 'number': '7', 'name': 'Tamekah Gutierrez'}, {'country': 'Ukraine', 'number': '3', 'name': 'Liberty Mathis'}, {'country': 'Mexico', 'number': '3', 'name': 'Rylee Sharpe'}, {'country': 'Mexico', 'number': '3', 'name': 'Brynn Hinton'}, {'country': 'Sweden', 'number': '2', 'name': 'Quinn Berg'}, {'country': 'Philippines', 'number': '9', 'name': 'Simone Tanner'}, {'country': 'Ireland', 'number': '2', 'name': 'Simon Giles'}, {'country': 'United Kingdom', 'number': '10', 'name': 'Zenia Coffey'}, {'country': 'Mexico', 'number': '2', 'name': 'Yael Glass'}, {'country': 'Colombia', 'number': '5', 'name': 'Inga Russell'}, {'country': 'United Kingdom', 'number': '1', 'name': 'Brendan Pearson'}, {'country': 'Austria', 'number': '3', 'name': 'Shafira Parks'}, {'country': 'India', 'number': '9', 'name': 'Dante Charles'}, {'country': 'Sweden', 'number': '8', 'name': 'Kylee Good'}, {'country': 'Canada', 'number': '1', 'name': 'September Bryan'}, {'country': 'Costa Rica', 'number': '5', 'name': 'Hakeem Flowers'}, {'country': 'Peru', 'number': '0', 'name': 'Ross Moss'}, {'country': 'Spain', 'number': '8', 'name': 'Bo Hardy'}, {'country': 'Austria', 'number': '2', 'name': 'Davis Cardenas'}, {'country': 'Ireland', 'number': '2', 'name': 'Lane Chandler'}, {'country': 'Ukraine', 'number': '3', 'name': 'Mohammad Holder'}, {'country': 'Vietnam', 'number': '8', 'name': 'Jonas Bryan'}, {'country': 'Costa Rica', 'number': '0', 'name': 'Eve Rivas'}, {'country': 'Australia', 'number': '4', 'name': 'Elton Collins'}, {'country': 'Norway', 'number': '8', 'name': 'Cain Fields'}, {'country': 'Vietnam', 'number': '0', 'name': 'Iliana Daniels'}, {'country': 'Mexico', 'number': '7', 'name': 'Rajah Robles'}, {'country': 'Australia', 'number': '3', 'name': 'Charity Conner'}, {'country': 'Chile', 'number': '5', 'name': 'Kay Parsons'}, {'country': 'Ireland', 'number': '4', 'name': 'Rachel Howell'}, {'country': 'Singapore', 'number': '3', 'name': 'Walter Forbes'}, {'country': 'Colombia', 'number': '1', 'name': 'Gray Hayden'}, {'country': 'Netherlands', 'number': '9', 'name': 'Ivana Compton'}, {'country': 'South Korea', 'number': '8', 'name': 'Jamal Kelly'}, {'country': 'Pakistan', 'number': '0', 'name': 'Robert Cunningham'}, {'country': 'Spain', 'number': '4', 'name': 'Ignatius Newman'}, {'country': 'Canada', 'number': '8', 'name': 'Gisela Glenn'}, {'country': 'Vietnam', 'number': '1', 'name': 'Eliana Nicholson'}, {'country': 'Ukraine', 'number': '4', 'name': 'Christen James'}, {'country': 'France', 'number': '4', 'name': 'Devin Spears'}, {'country': 'Costa Rica', 'number': '3', 'name': 'Phelan Hodges'}, {'country': 'Chile', 'number': '4', 'name': 'Stewart Coffey'}, {'country': 'Singapore', 'number': '6', 'name': 'Kasper Justice'}, {'country': 'Italy', 'number': '7', 'name': 'Xanthus Wilkerson'}, {'country': 'Italy', 'number': '6', 'name': 'Debra Melendez'}, {'country': 'Germany', 'number': '6', 'name': 'Galvin Morrison'}, {'country': 'Norway', 'number': '10', 'name': 'Britanney Daniels'}, {'country': 'Italy', 'number': '8', 'name': 'Steel Cantu'}, {'country': 'Mexico', 'number': '7', 'name': 'Graham Ewing'}, {'country': 'China', 'number': '3', 'name': 'Maia Dunn'}, {'country': 'Australia', 'number': '3', 'name': 'Violet Thornton'}, {'country': 'Canada', 'number': '5', 'name': 'Cleo Cardenas'}, {'country': 'United States', 'number': '8', 'name': 'Castor Bowen'}, {'country': 'Australia', 'number': '8', 'name': 'Wyatt Carey'}, {'country': 'Philippines', 'number': '5', 'name': 'Paul Padilla'}, {'country': 'Costa Rica', 'number': '8', 'name': 'Germane Welch'}, {'country': 'South Korea', 'number': '4', 'name': 'Zephr Deleon'}, {'country': 'Russian Federation', 'number': '9', 'name': 'Lionel Armstrong'}, {'country': 'Brazil', 'number': '6', 'name': 'Eleanor Solomon'}, {'country': 'Nigeria', 'number': '7', 'name': 'Rachel Woods'}, {'country': 'Indonesia', 'number': '9', 'name': 'Philip Taylor'}, {'country': 'Brazil', 'number': '7', 'name': 'Lilah Shelton'}, {'country': 'United Kingdom', 'number': '3', 'name': 'Gillian Harrington'}, {'country': 'Mexico', 'number': '3', 'name': 'Odessa Sutton'}]\n"
     ]
    }
   ],
   "source": [
    "print(data)"
   ]
  },
  {
   "cell_type": "code",
   "execution_count": 9,
   "id": "8a0f0488",
   "metadata": {},
   "outputs": [],
   "source": [
    "data3 = filter(lambda x: x[\"name\"][0]== a or b, data)"
   ]
  },
  {
   "cell_type": "code",
   "execution_count": 12,
   "id": "b1bb44f2",
   "metadata": {},
   "outputs": [],
   "source": [
    "list_filtered2 =  list(map(lambda x: {'name': x['name'], 'country': x['country'], 'number': int(x['number']) * 2}, data))"
   ]
  },
  {
   "cell_type": "code",
   "execution_count": 13,
   "id": "c3168b6a",
   "metadata": {
    "scrolled": true
   },
   "outputs": [
    {
     "data": {
      "text/plain": [
       "[{'name': 'Derek Bolton', 'country': 'Ukraine', 'number': 6},\n",
       " {'name': 'Britanney Durham', 'country': 'United States', 'number': 6},\n",
       " {'name': 'Rachel Dickson', 'country': 'China', 'number': 14},\n",
       " {'name': 'Oren Dominguez', 'country': 'India', 'number': 8},\n",
       " {'name': 'Keane Dean', 'country': 'Norway', 'number': 10},\n",
       " {'name': 'Tarik Coleman', 'country': 'New Zealand', 'number': 16},\n",
       " {'name': 'Uriel Greene', 'country': 'South Africa', 'number': 6},\n",
       " {'name': 'Minerva Shields', 'country': 'China', 'number': 12},\n",
       " {'name': 'Robin Butler', 'country': 'Norway', 'number': 14},\n",
       " {'name': 'Stacey Nixon', 'country': 'Germany', 'number': 14},\n",
       " {'name': 'Glenna Clark', 'country': 'South Africa', 'number': 8},\n",
       " {'name': 'Adena Smith', 'country': 'Australia', 'number': 14},\n",
       " {'name': 'Ronan Ellis', 'country': 'Italy', 'number': 4},\n",
       " {'name': 'Ignatius Guy', 'country': 'Chile', 'number': 2},\n",
       " {'name': 'Barclay Lindsey', 'country': 'Belgium', 'number': 16},\n",
       " {'name': 'Fuller Burris', 'country': 'Peru', 'number': 4},\n",
       " {'name': 'Kylan Witt', 'country': 'Ukraine', 'number': 4},\n",
       " {'name': 'Kitra Willis', 'country': 'United States', 'number': 2},\n",
       " {'name': 'Indigo Dillard', 'country': 'Austria', 'number': 12},\n",
       " {'name': 'Benedict Powell', 'country': 'Chile', 'number': 6},\n",
       " {'name': 'Duncan Ware', 'country': 'Russian Federation', 'number': 18},\n",
       " {'name': 'Abra Lewis', 'country': 'Peru', 'number': 14},\n",
       " {'name': 'Callie Cole', 'country': 'China', 'number': 10},\n",
       " {'name': 'Cedric Gates', 'country': 'United States', 'number': 0},\n",
       " {'name': 'Malcolm Cox', 'country': 'Ukraine', 'number': 14},\n",
       " {'name': 'Connor Potts', 'country': 'Brazil', 'number': 12},\n",
       " {'name': 'Lyle Nguyen', 'country': 'Sweden', 'number': 14},\n",
       " {'name': 'Rudyard Barrett', 'country': 'United States', 'number': 6},\n",
       " {'name': 'Judah Brock', 'country': 'Costa Rica', 'number': 4},\n",
       " {'name': 'Lucius Snider', 'country': 'South Korea', 'number': 4},\n",
       " {'name': 'Cassady Mcdaniel', 'country': 'China', 'number': 2},\n",
       " {'name': 'Allegra Baird', 'country': 'Singapore', 'number': 4},\n",
       " {'name': 'Omar Burgess', 'country': 'Philippines', 'number': 8},\n",
       " {'name': 'Kenyon Rosa', 'country': 'Turkey', 'number': 14},\n",
       " {'name': 'Yen Sargent', 'country': 'Poland', 'number': 12},\n",
       " {'name': 'Rashad Grimes', 'country': 'China', 'number': 6},\n",
       " {'name': 'Tamekah Gutierrez', 'country': 'Spain', 'number': 14},\n",
       " {'name': 'Liberty Mathis', 'country': 'Ukraine', 'number': 6},\n",
       " {'name': 'Rylee Sharpe', 'country': 'Mexico', 'number': 6},\n",
       " {'name': 'Brynn Hinton', 'country': 'Mexico', 'number': 6},\n",
       " {'name': 'Quinn Berg', 'country': 'Sweden', 'number': 4},\n",
       " {'name': 'Simone Tanner', 'country': 'Philippines', 'number': 18},\n",
       " {'name': 'Simon Giles', 'country': 'Ireland', 'number': 4},\n",
       " {'name': 'Zenia Coffey', 'country': 'United Kingdom', 'number': 20},\n",
       " {'name': 'Yael Glass', 'country': 'Mexico', 'number': 4},\n",
       " {'name': 'Inga Russell', 'country': 'Colombia', 'number': 10},\n",
       " {'name': 'Brendan Pearson', 'country': 'United Kingdom', 'number': 2},\n",
       " {'name': 'Shafira Parks', 'country': 'Austria', 'number': 6},\n",
       " {'name': 'Dante Charles', 'country': 'India', 'number': 18},\n",
       " {'name': 'Kylee Good', 'country': 'Sweden', 'number': 16},\n",
       " {'name': 'September Bryan', 'country': 'Canada', 'number': 2},\n",
       " {'name': 'Hakeem Flowers', 'country': 'Costa Rica', 'number': 10},\n",
       " {'name': 'Ross Moss', 'country': 'Peru', 'number': 0},\n",
       " {'name': 'Bo Hardy', 'country': 'Spain', 'number': 16},\n",
       " {'name': 'Davis Cardenas', 'country': 'Austria', 'number': 4},\n",
       " {'name': 'Lane Chandler', 'country': 'Ireland', 'number': 4},\n",
       " {'name': 'Mohammad Holder', 'country': 'Ukraine', 'number': 6},\n",
       " {'name': 'Jonas Bryan', 'country': 'Vietnam', 'number': 16},\n",
       " {'name': 'Eve Rivas', 'country': 'Costa Rica', 'number': 0},\n",
       " {'name': 'Elton Collins', 'country': 'Australia', 'number': 8},\n",
       " {'name': 'Cain Fields', 'country': 'Norway', 'number': 16},\n",
       " {'name': 'Iliana Daniels', 'country': 'Vietnam', 'number': 0},\n",
       " {'name': 'Rajah Robles', 'country': 'Mexico', 'number': 14},\n",
       " {'name': 'Charity Conner', 'country': 'Australia', 'number': 6},\n",
       " {'name': 'Kay Parsons', 'country': 'Chile', 'number': 10},\n",
       " {'name': 'Rachel Howell', 'country': 'Ireland', 'number': 8},\n",
       " {'name': 'Walter Forbes', 'country': 'Singapore', 'number': 6},\n",
       " {'name': 'Gray Hayden', 'country': 'Colombia', 'number': 2},\n",
       " {'name': 'Ivana Compton', 'country': 'Netherlands', 'number': 18},\n",
       " {'name': 'Jamal Kelly', 'country': 'South Korea', 'number': 16},\n",
       " {'name': 'Robert Cunningham', 'country': 'Pakistan', 'number': 0},\n",
       " {'name': 'Ignatius Newman', 'country': 'Spain', 'number': 8},\n",
       " {'name': 'Gisela Glenn', 'country': 'Canada', 'number': 16},\n",
       " {'name': 'Eliana Nicholson', 'country': 'Vietnam', 'number': 2},\n",
       " {'name': 'Christen James', 'country': 'Ukraine', 'number': 8},\n",
       " {'name': 'Devin Spears', 'country': 'France', 'number': 8},\n",
       " {'name': 'Phelan Hodges', 'country': 'Costa Rica', 'number': 6},\n",
       " {'name': 'Stewart Coffey', 'country': 'Chile', 'number': 8},\n",
       " {'name': 'Kasper Justice', 'country': 'Singapore', 'number': 12},\n",
       " {'name': 'Xanthus Wilkerson', 'country': 'Italy', 'number': 14},\n",
       " {'name': 'Debra Melendez', 'country': 'Italy', 'number': 12},\n",
       " {'name': 'Galvin Morrison', 'country': 'Germany', 'number': 12},\n",
       " {'name': 'Britanney Daniels', 'country': 'Norway', 'number': 20},\n",
       " {'name': 'Steel Cantu', 'country': 'Italy', 'number': 16},\n",
       " {'name': 'Graham Ewing', 'country': 'Mexico', 'number': 14},\n",
       " {'name': 'Maia Dunn', 'country': 'China', 'number': 6},\n",
       " {'name': 'Violet Thornton', 'country': 'Australia', 'number': 6},\n",
       " {'name': 'Cleo Cardenas', 'country': 'Canada', 'number': 10},\n",
       " {'name': 'Castor Bowen', 'country': 'United States', 'number': 16},\n",
       " {'name': 'Wyatt Carey', 'country': 'Australia', 'number': 16},\n",
       " {'name': 'Paul Padilla', 'country': 'Philippines', 'number': 10},\n",
       " {'name': 'Germane Welch', 'country': 'Costa Rica', 'number': 16},\n",
       " {'name': 'Zephr Deleon', 'country': 'South Korea', 'number': 8},\n",
       " {'name': 'Lionel Armstrong', 'country': 'Russian Federation', 'number': 18},\n",
       " {'name': 'Eleanor Solomon', 'country': 'Brazil', 'number': 12},\n",
       " {'name': 'Rachel Woods', 'country': 'Nigeria', 'number': 14},\n",
       " {'name': 'Philip Taylor', 'country': 'Indonesia', 'number': 18},\n",
       " {'name': 'Lilah Shelton', 'country': 'Brazil', 'number': 14},\n",
       " {'name': 'Gillian Harrington', 'country': 'United Kingdom', 'number': 6},\n",
       " {'name': 'Odessa Sutton', 'country': 'Mexico', 'number': 6}]"
      ]
     },
     "execution_count": 13,
     "metadata": {},
     "output_type": "execute_result"
    }
   ],
   "source": [
    "list_filtered2"
   ]
  },
  {
   "cell_type": "code",
   "execution_count": 14,
   "id": "0939d50b",
   "metadata": {},
   "outputs": [
    {
     "name": "stdout",
     "output_type": "stream",
     "text": [
      "[{'name': 'Derek Bolton', 'country': 'Ukraine', 'number': 6}, {'name': 'Britanney Durham', 'country': 'United States', 'number': 6}, {'name': 'Rachel Dickson', 'country': 'China', 'number': 14}, {'name': 'Oren Dominguez', 'country': 'India', 'number': 8}, {'name': 'Keane Dean', 'country': 'Norway', 'number': 10}, {'name': 'Tarik Coleman', 'country': 'New Zealand', 'number': 16}, {'name': 'Uriel Greene', 'country': 'South Africa', 'number': 6}, {'name': 'Minerva Shields', 'country': 'China', 'number': 12}, {'name': 'Robin Butler', 'country': 'Norway', 'number': 14}, {'name': 'Stacey Nixon', 'country': 'Germany', 'number': 14}, {'name': 'Glenna Clark', 'country': 'South Africa', 'number': 8}, {'name': 'Adena Smith', 'country': 'Australia', 'number': 14}, {'name': 'Ronan Ellis', 'country': 'Italy', 'number': 4}, {'name': 'Ignatius Guy', 'country': 'Chile', 'number': 2}, {'name': 'Barclay Lindsey', 'country': 'Belgium', 'number': 16}, {'name': 'Fuller Burris', 'country': 'Peru', 'number': 4}, {'name': 'Kylan Witt', 'country': 'Ukraine', 'number': 4}, {'name': 'Kitra Willis', 'country': 'United States', 'number': 2}, {'name': 'Indigo Dillard', 'country': 'Austria', 'number': 12}, {'name': 'Benedict Powell', 'country': 'Chile', 'number': 6}, {'name': 'Duncan Ware', 'country': 'Russian Federation', 'number': 18}, {'name': 'Abra Lewis', 'country': 'Peru', 'number': 14}, {'name': 'Callie Cole', 'country': 'China', 'number': 10}, {'name': 'Cedric Gates', 'country': 'United States', 'number': 0}, {'name': 'Malcolm Cox', 'country': 'Ukraine', 'number': 14}, {'name': 'Connor Potts', 'country': 'Brazil', 'number': 12}, {'name': 'Lyle Nguyen', 'country': 'Sweden', 'number': 14}, {'name': 'Rudyard Barrett', 'country': 'United States', 'number': 6}, {'name': 'Judah Brock', 'country': 'Costa Rica', 'number': 4}, {'name': 'Lucius Snider', 'country': 'South Korea', 'number': 4}, {'name': 'Cassady Mcdaniel', 'country': 'China', 'number': 2}, {'name': 'Allegra Baird', 'country': 'Singapore', 'number': 4}, {'name': 'Omar Burgess', 'country': 'Philippines', 'number': 8}, {'name': 'Kenyon Rosa', 'country': 'Turkey', 'number': 14}, {'name': 'Yen Sargent', 'country': 'Poland', 'number': 12}, {'name': 'Rashad Grimes', 'country': 'China', 'number': 6}, {'name': 'Tamekah Gutierrez', 'country': 'Spain', 'number': 14}, {'name': 'Liberty Mathis', 'country': 'Ukraine', 'number': 6}, {'name': 'Rylee Sharpe', 'country': 'Mexico', 'number': 6}, {'name': 'Brynn Hinton', 'country': 'Mexico', 'number': 6}, {'name': 'Quinn Berg', 'country': 'Sweden', 'number': 4}, {'name': 'Simone Tanner', 'country': 'Philippines', 'number': 18}, {'name': 'Simon Giles', 'country': 'Ireland', 'number': 4}, {'name': 'Zenia Coffey', 'country': 'United Kingdom', 'number': 20}, {'name': 'Yael Glass', 'country': 'Mexico', 'number': 4}, {'name': 'Inga Russell', 'country': 'Colombia', 'number': 10}, {'name': 'Brendan Pearson', 'country': 'United Kingdom', 'number': 2}, {'name': 'Shafira Parks', 'country': 'Austria', 'number': 6}, {'name': 'Dante Charles', 'country': 'India', 'number': 18}, {'name': 'Kylee Good', 'country': 'Sweden', 'number': 16}, {'name': 'September Bryan', 'country': 'Canada', 'number': 2}, {'name': 'Hakeem Flowers', 'country': 'Costa Rica', 'number': 10}, {'name': 'Ross Moss', 'country': 'Peru', 'number': 0}, {'name': 'Bo Hardy', 'country': 'Spain', 'number': 16}, {'name': 'Davis Cardenas', 'country': 'Austria', 'number': 4}, {'name': 'Lane Chandler', 'country': 'Ireland', 'number': 4}, {'name': 'Mohammad Holder', 'country': 'Ukraine', 'number': 6}, {'name': 'Jonas Bryan', 'country': 'Vietnam', 'number': 16}, {'name': 'Eve Rivas', 'country': 'Costa Rica', 'number': 0}, {'name': 'Elton Collins', 'country': 'Australia', 'number': 8}, {'name': 'Cain Fields', 'country': 'Norway', 'number': 16}, {'name': 'Iliana Daniels', 'country': 'Vietnam', 'number': 0}, {'name': 'Rajah Robles', 'country': 'Mexico', 'number': 14}, {'name': 'Charity Conner', 'country': 'Australia', 'number': 6}, {'name': 'Kay Parsons', 'country': 'Chile', 'number': 10}, {'name': 'Rachel Howell', 'country': 'Ireland', 'number': 8}, {'name': 'Walter Forbes', 'country': 'Singapore', 'number': 6}, {'name': 'Gray Hayden', 'country': 'Colombia', 'number': 2}, {'name': 'Ivana Compton', 'country': 'Netherlands', 'number': 18}, {'name': 'Jamal Kelly', 'country': 'South Korea', 'number': 16}, {'name': 'Robert Cunningham', 'country': 'Pakistan', 'number': 0}, {'name': 'Ignatius Newman', 'country': 'Spain', 'number': 8}, {'name': 'Gisela Glenn', 'country': 'Canada', 'number': 16}, {'name': 'Eliana Nicholson', 'country': 'Vietnam', 'number': 2}, {'name': 'Christen James', 'country': 'Ukraine', 'number': 8}, {'name': 'Devin Spears', 'country': 'France', 'number': 8}, {'name': 'Phelan Hodges', 'country': 'Costa Rica', 'number': 6}, {'name': 'Stewart Coffey', 'country': 'Chile', 'number': 8}, {'name': 'Kasper Justice', 'country': 'Singapore', 'number': 12}, {'name': 'Xanthus Wilkerson', 'country': 'Italy', 'number': 14}, {'name': 'Debra Melendez', 'country': 'Italy', 'number': 12}, {'name': 'Galvin Morrison', 'country': 'Germany', 'number': 12}, {'name': 'Britanney Daniels', 'country': 'Norway', 'number': 20}, {'name': 'Steel Cantu', 'country': 'Italy', 'number': 16}, {'name': 'Graham Ewing', 'country': 'Mexico', 'number': 14}, {'name': 'Maia Dunn', 'country': 'China', 'number': 6}, {'name': 'Violet Thornton', 'country': 'Australia', 'number': 6}, {'name': 'Cleo Cardenas', 'country': 'Canada', 'number': 10}, {'name': 'Castor Bowen', 'country': 'United States', 'number': 16}, {'name': 'Wyatt Carey', 'country': 'Australia', 'number': 16}, {'name': 'Paul Padilla', 'country': 'Philippines', 'number': 10}, {'name': 'Germane Welch', 'country': 'Costa Rica', 'number': 16}, {'name': 'Zephr Deleon', 'country': 'South Korea', 'number': 8}, {'name': 'Lionel Armstrong', 'country': 'Russian Federation', 'number': 18}, {'name': 'Eleanor Solomon', 'country': 'Brazil', 'number': 12}, {'name': 'Rachel Woods', 'country': 'Nigeria', 'number': 14}, {'name': 'Philip Taylor', 'country': 'Indonesia', 'number': 18}, {'name': 'Lilah Shelton', 'country': 'Brazil', 'number': 14}, {'name': 'Gillian Harrington', 'country': 'United Kingdom', 'number': 6}, {'name': 'Odessa Sutton', 'country': 'Mexico', 'number': 6}]\n"
     ]
    }
   ],
   "source": [
    "print(list_filtered2)"
   ]
  },
  {
   "cell_type": "code",
   "execution_count": null,
   "id": "86698e33",
   "metadata": {},
   "outputs": [],
   "source": [
    "for i in data:\n",
    "    for h in list_filtered2:\n",
    "        i['number']=h"
   ]
  },
  {
   "cell_type": "code",
   "execution_count": 166,
   "id": "efe5a706",
   "metadata": {
    "collapsed": true
   },
   "outputs": [
    {
     "data": {
      "text/plain": [
       "[{'country': 'Ukraine', 'number': '33', 'name': 'Derek Bolton'},\n",
       " {'country': 'United States', 'number': '33', 'name': 'Britanney Durham'},\n",
       " {'country': 'China', 'number': '33', 'name': 'Rachel Dickson'},\n",
       " {'country': 'India', 'number': '33', 'name': 'Oren Dominguez'},\n",
       " {'country': 'Norway', 'number': '33', 'name': 'Keane Dean'},\n",
       " {'country': 'New Zealand', 'number': '33', 'name': 'Tarik Coleman'},\n",
       " {'country': 'South Africa', 'number': '33', 'name': 'Uriel Greene'},\n",
       " {'country': 'China', 'number': '33', 'name': 'Minerva Shields'},\n",
       " {'country': 'Norway', 'number': '33', 'name': 'Robin Butler'},\n",
       " {'country': 'Germany', 'number': '33', 'name': 'Stacey Nixon'},\n",
       " {'country': 'South Africa', 'number': '33', 'name': 'Glenna Clark'},\n",
       " {'country': 'Australia', 'number': '33', 'name': 'Adena Smith'},\n",
       " {'country': 'Italy', 'number': '33', 'name': 'Ronan Ellis'},\n",
       " {'country': 'Chile', 'number': '33', 'name': 'Ignatius Guy'},\n",
       " {'country': 'Belgium', 'number': '33', 'name': 'Barclay Lindsey'},\n",
       " {'country': 'Peru', 'number': '33', 'name': 'Fuller Burris'},\n",
       " {'country': 'Ukraine', 'number': '33', 'name': 'Kylan Witt'},\n",
       " {'country': 'United States', 'number': '33', 'name': 'Kitra Willis'},\n",
       " {'country': 'Austria', 'number': '33', 'name': 'Indigo Dillard'},\n",
       " {'country': 'Chile', 'number': '33', 'name': 'Benedict Powell'},\n",
       " {'country': 'Russian Federation', 'number': '33', 'name': 'Duncan Ware'},\n",
       " {'country': 'Peru', 'number': '33', 'name': 'Abra Lewis'},\n",
       " {'country': 'China', 'number': '33', 'name': 'Callie Cole'},\n",
       " {'country': 'United States', 'number': '33', 'name': 'Cedric Gates'},\n",
       " {'country': 'Ukraine', 'number': '33', 'name': 'Malcolm Cox'},\n",
       " {'country': 'Brazil', 'number': '33', 'name': 'Connor Potts'},\n",
       " {'country': 'Sweden', 'number': '33', 'name': 'Lyle Nguyen'},\n",
       " {'country': 'United States', 'number': '33', 'name': 'Rudyard Barrett'},\n",
       " {'country': 'Costa Rica', 'number': '33', 'name': 'Judah Brock'},\n",
       " {'country': 'South Korea', 'number': '33', 'name': 'Lucius Snider'},\n",
       " {'country': 'China', 'number': '33', 'name': 'Cassady Mcdaniel'},\n",
       " {'country': 'Singapore', 'number': '33', 'name': 'Allegra Baird'},\n",
       " {'country': 'Philippines', 'number': '33', 'name': 'Omar Burgess'},\n",
       " {'country': 'Turkey', 'number': '33', 'name': 'Kenyon Rosa'},\n",
       " {'country': 'Poland', 'number': '33', 'name': 'Yen Sargent'},\n",
       " {'country': 'China', 'number': '33', 'name': 'Rashad Grimes'},\n",
       " {'country': 'Spain', 'number': '33', 'name': 'Tamekah Gutierrez'},\n",
       " {'country': 'Ukraine', 'number': '33', 'name': 'Liberty Mathis'},\n",
       " {'country': 'Mexico', 'number': '33', 'name': 'Rylee Sharpe'},\n",
       " {'country': 'Mexico', 'number': '33', 'name': 'Brynn Hinton'},\n",
       " {'country': 'Sweden', 'number': '33', 'name': 'Quinn Berg'},\n",
       " {'country': 'Philippines', 'number': '33', 'name': 'Simone Tanner'},\n",
       " {'country': 'Ireland', 'number': '33', 'name': 'Simon Giles'},\n",
       " {'country': 'United Kingdom', 'number': '33', 'name': 'Zenia Coffey'},\n",
       " {'country': 'Mexico', 'number': '33', 'name': 'Yael Glass'},\n",
       " {'country': 'Colombia', 'number': '33', 'name': 'Inga Russell'},\n",
       " {'country': 'United Kingdom', 'number': '33', 'name': 'Brendan Pearson'},\n",
       " {'country': 'Austria', 'number': '33', 'name': 'Shafira Parks'},\n",
       " {'country': 'India', 'number': '33', 'name': 'Dante Charles'},\n",
       " {'country': 'Sweden', 'number': '33', 'name': 'Kylee Good'},\n",
       " {'country': 'Canada', 'number': '33', 'name': 'September Bryan'},\n",
       " {'country': 'Costa Rica', 'number': '33', 'name': 'Hakeem Flowers'},\n",
       " {'country': 'Peru', 'number': '33', 'name': 'Ross Moss'},\n",
       " {'country': 'Spain', 'number': '33', 'name': 'Bo Hardy'},\n",
       " {'country': 'Austria', 'number': '33', 'name': 'Davis Cardenas'},\n",
       " {'country': 'Ireland', 'number': '33', 'name': 'Lane Chandler'},\n",
       " {'country': 'Ukraine', 'number': '33', 'name': 'Mohammad Holder'},\n",
       " {'country': 'Vietnam', 'number': '33', 'name': 'Jonas Bryan'},\n",
       " {'country': 'Costa Rica', 'number': '33', 'name': 'Eve Rivas'},\n",
       " {'country': 'Australia', 'number': '33', 'name': 'Elton Collins'},\n",
       " {'country': 'Norway', 'number': '33', 'name': 'Cain Fields'},\n",
       " {'country': 'Vietnam', 'number': '33', 'name': 'Iliana Daniels'},\n",
       " {'country': 'Mexico', 'number': '33', 'name': 'Rajah Robles'},\n",
       " {'country': 'Australia', 'number': '33', 'name': 'Charity Conner'},\n",
       " {'country': 'Chile', 'number': '33', 'name': 'Kay Parsons'},\n",
       " {'country': 'Ireland', 'number': '33', 'name': 'Rachel Howell'},\n",
       " {'country': 'Singapore', 'number': '33', 'name': 'Walter Forbes'},\n",
       " {'country': 'Colombia', 'number': '33', 'name': 'Gray Hayden'},\n",
       " {'country': 'Netherlands', 'number': '33', 'name': 'Ivana Compton'},\n",
       " {'country': 'South Korea', 'number': '33', 'name': 'Jamal Kelly'},\n",
       " {'country': 'Pakistan', 'number': '33', 'name': 'Robert Cunningham'},\n",
       " {'country': 'Spain', 'number': '33', 'name': 'Ignatius Newman'},\n",
       " {'country': 'Canada', 'number': '33', 'name': 'Gisela Glenn'},\n",
       " {'country': 'Vietnam', 'number': '33', 'name': 'Eliana Nicholson'},\n",
       " {'country': 'Ukraine', 'number': '33', 'name': 'Christen James'},\n",
       " {'country': 'France', 'number': '33', 'name': 'Devin Spears'},\n",
       " {'country': 'Costa Rica', 'number': '33', 'name': 'Phelan Hodges'},\n",
       " {'country': 'Chile', 'number': '33', 'name': 'Stewart Coffey'},\n",
       " {'country': 'Singapore', 'number': '33', 'name': 'Kasper Justice'},\n",
       " {'country': 'Italy', 'number': '33', 'name': 'Xanthus Wilkerson'},\n",
       " {'country': 'Italy', 'number': '33', 'name': 'Debra Melendez'},\n",
       " {'country': 'Germany', 'number': '33', 'name': 'Galvin Morrison'},\n",
       " {'country': 'Norway', 'number': '33', 'name': 'Britanney Daniels'},\n",
       " {'country': 'Italy', 'number': '33', 'name': 'Steel Cantu'},\n",
       " {'country': 'Mexico', 'number': '33', 'name': 'Graham Ewing'},\n",
       " {'country': 'China', 'number': '33', 'name': 'Maia Dunn'},\n",
       " {'country': 'Australia', 'number': '33', 'name': 'Violet Thornton'},\n",
       " {'country': 'Canada', 'number': '33', 'name': 'Cleo Cardenas'},\n",
       " {'country': 'United States', 'number': '33', 'name': 'Castor Bowen'},\n",
       " {'country': 'Australia', 'number': '33', 'name': 'Wyatt Carey'},\n",
       " {'country': 'Philippines', 'number': '33', 'name': 'Paul Padilla'},\n",
       " {'country': 'Costa Rica', 'number': '33', 'name': 'Germane Welch'},\n",
       " {'country': 'South Korea', 'number': '33', 'name': 'Zephr Deleon'},\n",
       " {'country': 'Russian Federation', 'number': '33', 'name': 'Lionel Armstrong'},\n",
       " {'country': 'Brazil', 'number': '33', 'name': 'Eleanor Solomon'},\n",
       " {'country': 'Nigeria', 'number': '33', 'name': 'Rachel Woods'},\n",
       " {'country': 'Indonesia', 'number': '33', 'name': 'Philip Taylor'},\n",
       " {'country': 'Brazil', 'number': '33', 'name': 'Lilah Shelton'},\n",
       " {'country': 'United Kingdom', 'number': '33', 'name': 'Gillian Harrington'},\n",
       " {'country': 'Mexico', 'number': '33', 'name': 'Odessa Sutton'}]"
      ]
     },
     "execution_count": 166,
     "metadata": {},
     "output_type": "execute_result"
    }
   ],
   "source": [
    "print(data)"
   ]
  },
  {
   "cell_type": "markdown",
   "id": "e38c201d",
   "metadata": {},
   "source": [
    "# Recursive functions\n",
    "### For any recursive function you write in this section, make clear (with comments) what your base cases and your recursive cases are.\n",
    "Remember the example of the factorial function from the lecture. I will reproduce the Python code here:"
   ]
  },
  {
   "cell_type": "code",
   "execution_count": null,
   "id": "62482e55",
   "metadata": {},
   "outputs": [],
   "source": []
  },
  {
   "cell_type": "code",
   "execution_count": null,
   "id": "f7eeb238",
   "metadata": {},
   "outputs": [],
   "source": []
  },
  {
   "cell_type": "code",
   "execution_count": null,
   "id": "fe8e5c07",
   "metadata": {},
   "outputs": [],
   "source": [
    "def factorial(x):\n",
    "    if x == 0: # base case\n",
    "        return 1\n",
    "    else: # recursive case\n",
    "        return (x * factorial(x-1))\n",
    "\n",
    "\n",
    "num = 6\n",
    "print(\"The factorial of\", num, \"is\", factorial(num))"
   ]
  },
  {
   "cell_type": "markdown",
   "id": "fec13b6f",
   "metadata": {},
   "source": [
    "The other example in the lecture was concerned with Fibonacci numbers.\n",
    "### Exercise 1\n",
    "#### a\n",
    "Implement this Fibonacci function **recursively** in Python:"
   ]
  },
  {
   "cell_type": "code",
   "execution_count": 3,
   "id": "5aa9d82d",
   "metadata": {},
   "outputs": [],
   "source": [
    "def Fibonacci(x):\n",
    "    if x  < 2: # base case\n",
    "        return x\n",
    "            \n",
    "    else: # recursive case\n",
    "        return Fibonacci(x - 1) + Fibonacci(x - 2)"
   ]
  },
  {
   "cell_type": "code",
   "execution_count": 4,
   "id": "5a052147",
   "metadata": {},
   "outputs": [
    {
     "data": {
      "text/plain": [
       "2"
      ]
     },
     "execution_count": 4,
     "metadata": {},
     "output_type": "execute_result"
    }
   ],
   "source": [
    "Fibonacci(3)"
   ]
  },
  {
   "cell_type": "markdown",
   "id": "a89ff1b4",
   "metadata": {},
   "source": [
    "#### b\n",
    "Test your function on some higher numbers. What do you notice? What do you think is causing this?"
   ]
  },
  {
   "cell_type": "markdown",
   "id": "02d6b0c3",
   "metadata": {},
   "source": []
  },
  {
   "cell_type": "markdown",
   "id": "0ccdd531",
   "metadata": {},
   "source": [
    "### Exercise 2\n",
    "Write a recursive function that takes a list of integers as input and returns the maximum integer stored in the list. Thinking recursively, the maximum is either the first value in the list or the maximum of the rest of the list, whichever is larger. If the list only has 1 integer, then its maximum is this single value, naturally."
   ]
  },
  {
   "cell_type": "code",
   "execution_count": 28,
   "id": "461dcfd1",
   "metadata": {},
   "outputs": [],
   "source": [
    "def find_max_recursively(S,n):                                                \n",
    "    \"\"\"Find the maximum element in a sequence S, of n elements.\"\"\"             \n",
    "    if n == 1:  # reached the left most item                                   \n",
    "        return S[n-1]                                                          \n",
    "    else:                                                                      \n",
    "        previous = find_max_recursively(S, n-1)                                \n",
    "        current = S[n-1]                                                       \n",
    "        if previous > current:                                                 \n",
    "            return previous                                                    \n",
    "        else:                                                                  \n",
    "            return current  "
   ]
  },
  {
   "cell_type": "code",
   "execution_count": 32,
   "id": "966359db",
   "metadata": {},
   "outputs": [],
   "source": [
    "list1=[40,50,100,20,30]"
   ]
  },
  {
   "cell_type": "code",
   "execution_count": 33,
   "id": "4e4c4db4",
   "metadata": {},
   "outputs": [
    {
     "data": {
      "text/plain": [
       "100"
      ]
     },
     "execution_count": 33,
     "metadata": {},
     "output_type": "execute_result"
    }
   ],
   "source": [
    "find_max_recursively(list1,5)"
   ]
  },
  {
   "cell_type": "markdown",
   "id": "f7d5ea73",
   "metadata": {},
   "source": [
    "### Exercise 3\n",
    "Write a recursive function **letterCount** that takes a string and a character as input, and returns how many times the character occurs in the string. For example, it should have the following outputs:\n",
    "* **letterCount**(\"Julian\", 'i') = 1\n",
    "* **letterCount**(\"Ceel\", 'e') = 2\n",
    "* **letterCount**(\"Joris\", 'a') = 0"
   ]
  },
  {
   "cell_type": "code",
   "execution_count": 32,
   "id": "cc3944a1",
   "metadata": {},
   "outputs": [],
   "source": [
    "def lettercount(x,y):\n",
    "    if len(x) == 0:\n",
    "        return 0\n",
    "    elif x[-1]==y:\n",
    "        word = x[0:len(x)-1]\n",
    "        return 1+ lettercount(word,y)\n",
    "    else:\n",
    "        word = x[0:len(x)-1]\n",
    "        return lettercount(word,y)\n",
    " \n",
    "               "
   ]
  },
  {
   "cell_type": "code",
   "execution_count": 35,
   "id": "c5632ffb",
   "metadata": {},
   "outputs": [
    {
     "data": {
      "text/plain": [
       "0"
      ]
     },
     "execution_count": 35,
     "metadata": {},
     "output_type": "execute_result"
    }
   ],
   "source": [
    "lettercount(\"Joris\",\"d\")"
   ]
  },
  {
   "cell_type": "markdown",
   "id": "39ab0cd5",
   "metadata": {},
   "source": [
    "print(m)"
   ]
  },
  {
   "cell_type": "code",
   "execution_count": 23,
   "id": "6195e62f",
   "metadata": {},
   "outputs": [],
   "source": [
    "\n",
    "   \n",
    "    "
   ]
  },
  {
   "cell_type": "code",
   "execution_count": 24,
   "id": "5a00979a",
   "metadata": {},
   "outputs": [
    {
     "data": {
      "text/plain": [
       "0"
      ]
     },
     "execution_count": 24,
     "metadata": {},
     "output_type": "execute_result"
    }
   ],
   "source": []
  },
  {
   "cell_type": "markdown",
   "id": "bcdb69fe",
   "metadata": {},
   "source": [
    "# Turing Machines\n",
    "### The exercises for this section are made outside of this notebook. To hand in, either add a separate file with the code to your personal GitHub map, or copy-paste it into the box at the bottom of the notebook. Make sure to clearly label which code belongs to which exercise!\n",
    "Go to turingmachine.io and open the 'binary increment' example at the top. Play around with it and try to understand what is happening.\n",
    "\n",
    "### Exercise 1\n",
    "Make the exercises for the binary increment that are printed below the code on the web page. I will reproduce them here for your convenience:\n",
    "\n",
    "exercises\n",
    "\n",
    "\t# • Modify the machine to always halt on the leftmost digit\n",
    "\t#   (regardless of the number's length).\n",
    "\t#   Hint: add a state between carry and done.\n",
    "\n",
    "\t# • Make a machine that adds 2 instead of 1.\n",
    "\t#   Hint: 2 is '10' in binary, so the last digit is unaffected.\n",
    "\t#   Alternative hint: chain together two copies of the machine from\n",
    "\t#   the first exercise (renaming the states of the second copy).\n",
    "\n",
    "\t# • Make a machine to subtract 1.\n",
    "\t#   To simplify things, assume the input is always greater than 0.\n",
    "\n",
    "### Exercise 2\n",
    "Choose an example at the top (different from 'binary increment') that has complementery exercises and do those.\n",
    "\n"
   ]
  },
  {
   "cell_type": "raw",
   "id": "24bd3b0d",
   "metadata": {},
   "source": [
    "paste Turing Machine code here...\n",
    "\n",
    "\n"
   ]
  }
 ],
 "metadata": {
  "kernelspec": {
   "display_name": "Python 3 (ipykernel)",
   "language": "python",
   "name": "python3"
  },
  "language_info": {
   "codemirror_mode": {
    "name": "ipython",
    "version": 3
   },
   "file_extension": ".py",
   "mimetype": "text/x-python",
   "name": "python",
   "nbconvert_exporter": "python",
   "pygments_lexer": "ipython3",
   "version": "3.9.12"
  }
 },
 "nbformat": 4,
 "nbformat_minor": 5
}
