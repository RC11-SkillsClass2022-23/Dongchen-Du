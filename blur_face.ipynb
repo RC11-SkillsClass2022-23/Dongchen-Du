{
  "nbformat": 4,
  "nbformat_minor": 0,
  "metadata": {
    "colab": {
      "provenance": [],
      "mount_file_id": "1RoUyKEsGBxoiaxrV4j0u8ctaYtLfg_WR",
      "authorship_tag": "ABX9TyM5unXxOykGSiM3n1XGbRpI",
      "include_colab_link": true
    },
    "kernelspec": {
      "name": "python3",
      "display_name": "Python 3"
    },
    "language_info": {
      "name": "python"
    }
  },
  "cells": [
    {
      "cell_type": "markdown",
      "metadata": {
        "id": "view-in-github",
        "colab_type": "text"
      },
      "source": [
        "<a href=\"https://colab.research.google.com/github/RC11-SkillsClass2022-23/Dongchen-Du/blob/main/blur_face.ipynb\" target=\"_parent\"><img src=\"https://colab.research.google.com/assets/colab-badge.svg\" alt=\"Open In Colab\"/></a>"
      ]
    },
    {
      "cell_type": "code",
      "execution_count": null,
      "metadata": {
        "colab": {
          "base_uri": "https://localhost:8080/"
        },
        "id": "A1OLk8FHK-hM",
        "outputId": "1481c170-70f7-49d7-bfca-7b8b2e026975"
      },
      "outputs": [
        {
          "output_type": "stream",
          "name": "stdout",
          "text": [
            "Looking in indexes: https://pypi.org/simple, https://us-python.pkg.dev/colab-wheels/public/simple/\n",
            "Requirement already satisfied: opencv-contrib-python in /usr/local/lib/python3.8/dist-packages (4.6.0.66)\n",
            "Requirement already satisfied: numpy>=1.17.3 in /usr/local/lib/python3.8/dist-packages (from opencv-contrib-python) (1.21.6)\n"
          ]
        }
      ],
      "source": [
        "! pip install opencv-contrib-python"
      ]
    },
    {
      "cell_type": "code",
      "source": [
        "import cv2\n",
        "import numpy as np\n",
        "from os.path import dirname, join"
      ],
      "metadata": {
        "id": "sMnfEOpLLIo-"
      },
      "execution_count": null,
      "outputs": []
    },
    {
      "cell_type": "code",
      "source": [
        "\n",
        "# https://raw.githubusercontent.com/opencv/opencv/master/samples/dnn/face_detector/deploy.prototxt\n",
        "prototxt_path = join(dirname('/content/drive/MyDrive/RC11_2022-23/pretrainedmodel'), \"/content/drive/MyDrive/RC11_2022-23/pretrainedmodel/deploy.prototxt\")\n",
        "# https://raw.githubusercontent.com/opencv/opencv_3rdparty/dnn_samples_face_detector_20180205_fp16/res10_300x300_ssd_iter_140000_fp16.caffemodel\n",
        "model_path = join(dirname('/content/drive/MyDrive/RC11_2022-23/pretrainedmodel'), \"/content/drive/MyDrive/RC11_2022-23/pretrainedmodel/res10_300x300_ssd_iter_140000_fp16.caffemodel\")\n",
        "# load Caffe model\n",
        "model = cv2.dnn.readNetFromCaffe(prototxt_path, model_path)"
      ],
      "metadata": {
        "id": "angWSOwhOXZS"
      },
      "execution_count": null,
      "outputs": []
    },
    {
      "cell_type": "code",
      "source": [
        "# read the desired image\n",
        "image = cv2.imread(\"/content/drive/MyDrive/RC11_2022-23/videotoproress/5adc73bc015d4b7047f8de014d179182.jpg\")\n",
        "# get width and height of the image\n",
        "h, w = image.shape[:2]\n",
        "# gaussian blur kernel size depends on width and height of original image\n",
        "kernel_width = (w // 7) | 1\n",
        "kernel_height = (h // 7) | 1\n",
        "# preprocess the image: resize and performs mean subtraction\n",
        "blob = cv2.dnn.blobFromImage(image, 1.0, (300, 300), (104.0, 177.0, 123.0))\n",
        "# set the image into the input of the neural network\n",
        "model.setInput(blob)\n",
        "# perform inference and get the result\n",
        "output = np.squeeze(model.forward())\n"
      ],
      "metadata": {
        "id": "KSfiD-5dPJyj"
      },
      "execution_count": null,
      "outputs": []
    },
    {
      "cell_type": "code",
      "source": [
        "for i in range(0, output.shape[0]):\n",
        "    confidence = output[i, 2]\n",
        "    # get the confidence\n",
        "    # if confidence is above 40%, then blur the bounding box (face)\n",
        "    if confidence > 0.4:\n",
        "        # get the surrounding box cordinates and upscale them to original image\n",
        "        box = output[i, 3:7] * np.array([w, h, w, h])\n",
        "        # convert to integers\n",
        "        start_x, start_y, end_x, end_y = box.astype(int)\n",
        "        # get the face image\n",
        "        face = image[start_y: end_y, start_x: end_x]\n",
        "        # apply gaussian blur to this face\n",
        "        face = cv2.GaussianBlur(face, (kernel_width, kernel_height), 0)\n",
        "        # put the blurred face into the original image\n",
        "        image[start_y: end_y, start_x: end_x] = face\n",
        "        cv2.imwrite('/content/drive/MyDrive/RC11_2022-23/video_done/blurred-face.jpg', image)"
      ],
      "metadata": {
        "id": "D1wXY_QFPpVg"
      },
      "execution_count": null,
      "outputs": []
    }
  ]
}